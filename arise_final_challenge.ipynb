{
  "nbformat": 4,
  "nbformat_minor": 0,
  "metadata": {
    "colab": {
      "name": "arise-final_challenge.ipynb",
      "version": "0.3.2",
      "provenance": [],
      "collapsed_sections": [
        "F5rFqde1m3hX",
        "Thb9k7Ry5lEn",
        "LrR3fyeAzi53",
        "a83VQPE8BCSI",
        "KSJLSPImgp6r",
        "2EfmuUaJzso2"
      ],
      "include_colab_link": true
    },
    "kernelspec": {
      "name": "python3",
      "display_name": "Python 3"
    },
    "accelerator": "GPU"
  },
  "cells": [
    {
      "cell_type": "markdown",
      "metadata": {
        "id": "view-in-github",
        "colab_type": "text"
      },
      "source": [
        "<a href=\"https://colab.research.google.com/github/Saplos/arise-final-challenge/blob/master/arise_final_challenge.ipynb\" target=\"_parent\"><img src=\"https://colab.research.google.com/assets/colab-badge.svg\" alt=\"Open In Colab\"/></a>"
      ]
    },
    {
      "cell_type": "markdown",
      "metadata": {
        "id": "rtBCoImxPoJT",
        "colab_type": "text"
      },
      "source": [
        "solaaremu.pelumi@gmail.com"
      ]
    },
    {
      "cell_type": "markdown",
      "metadata": {
        "id": "KSfhQ7lkSxKd",
        "colab_type": "text"
      },
      "source": [
        "## **Comparison of two loan pre-deliquency model**"
      ]
    },
    {
      "cell_type": "markdown",
      "metadata": {
        "id": "fSeVVJ4p7uG7",
        "colab_type": "text"
      },
      "source": [
        "This project is the captsone project for the Arise-paylater internship, a 6-week long internship to develop the datascience capabilities of participants. \n",
        "\n",
        "The capstone project involves developing two loan pre-deliquency models using Random Forest and Neural Network Algorithms. \n",
        "\n",
        "The entire machine learning pipeline is explored during the course of this project."
      ]
    },
    {
      "cell_type": "markdown",
      "metadata": {
        "id": "F5rFqde1m3hX",
        "colab_type": "text"
      },
      "source": [
        "####**Importing necessary libraries**"
      ]
    },
    {
      "cell_type": "code",
      "metadata": {
        "id": "kQ_K6VicAbka",
        "colab_type": "code",
        "colab": {}
      },
      "source": [
        "import pandas as pd\n",
        "import numpy as np\n",
        "import matplotlib.pyplot as plt\n",
        "import seaborn as sns\n",
        "from sklearn.model_selection import train_test_split as tts\n",
        "from sklearn.ensemble import RandomForestClassifier\n",
        "from sklearn.metrics import classification_report, confusion_matrix, accuracy_score\n",
        "from sklearn.metrics import roc_curve\n",
        "from sklearn.metrics import roc_auc_score\n",
        "from sklearn.neural_network import MLPClassifier\n",
        "from sklearn.utils import resample\n",
        "from imblearn.over_sampling import SMOTE\n",
        "from scipy import stats\n",
        "from sklearn.preprocessing import scale\n",
        "from sklearn.utils.multiclass import unique_labels\n",
        "from sklearn.model_selection import GridSearchCV\n",
        "from sklearn.model_selection import RandomizedSearchCV"
      ],
      "execution_count": 0,
      "outputs": []
    },
    {
      "cell_type": "markdown",
      "metadata": {
        "id": "Thb9k7Ry5lEn",
        "colab_type": "text"
      },
      "source": [
        "#### **Importing the data from google sheets**"
      ]
    },
    {
      "cell_type": "code",
      "metadata": {
        "id": "ioCmimfllcVW",
        "colab_type": "code",
        "colab": {}
      },
      "source": [
        "!pip install --upgrade -q gspread"
      ],
      "execution_count": 0,
      "outputs": []
    },
    {
      "cell_type": "code",
      "metadata": {
        "id": "SPh6EwkHlcUW",
        "colab_type": "code",
        "outputId": "9a92f7a5-0ad4-43a6-f765-2691d8e145b3",
        "colab": {
          "base_uri": "https://localhost:8080/",
          "height": 187
        }
      },
      "source": [
        "from google.colab import auth\n",
        "auth.authenticate_user()\n",
        "\n",
        "import gspread\n",
        "from oauth2client.client import GoogleCredentials\n",
        "\n",
        "gc = gspread.authorize(GoogleCredentials.get_application_default())\n",
        "\n",
        "worksheet = gc.open('Loan pre-deliquency dataset').sheet1\n",
        "\n",
        "# get_all_values gives a list of rows.\n",
        "rows = worksheet.get_all_values()\n",
        "print(rows)\n",
        "\n",
        "# Convert to a DataFrame and render.\n",
        "import pandas as pd\n",
        "df=pd.DataFrame.from_records(rows)"
      ],
      "execution_count": 0,
      "outputs": [
        {
          "output_type": "stream",
          "text": [
            "IOPub data rate exceeded.\n",
            "The notebook server will temporarily stop sending output\n",
            "to the client in order to avoid crashing it.\n",
            "To change this limit, set the config variable\n",
            "`--NotebookApp.iopub_data_rate_limit`.\n",
            "\n",
            "Current values:\n",
            "NotebookApp.iopub_data_rate_limit=1000000.0 (bytes/sec)\n",
            "NotebookApp.rate_limit_window=3.0 (secs)\n",
            "\n"
          ],
          "name": "stderr"
        }
      ]
    },
    {
      "cell_type": "markdown",
      "metadata": {
        "id": "LrR3fyeAzi53",
        "colab_type": "text"
      },
      "source": [
        "####**Date Preprocessing**"
      ]
    },
    {
      "cell_type": "markdown",
      "metadata": {
        "id": "XseP8HTR5220",
        "colab_type": "text"
      },
      "source": [
        "**Formatting the DataFrame to include appropriate column names and datatype**"
      ]
    },
    {
      "cell_type": "code",
      "metadata": {
        "id": "I0Ow5wifowI2",
        "colab_type": "code",
        "colab": {}
      },
      "source": [
        "#This changes the column names to the appropriate values\n",
        "df.columns=df.iloc[0]\n",
        "#This drops the row containing the column names from the dataframe\n",
        "df=df.drop(df.index[0]) \n",
        "#This resets the index of the dataframe \n",
        "df=df.reset_index(drop=True) "
      ],
      "execution_count": 0,
      "outputs": []
    },
    {
      "cell_type": "code",
      "metadata": {
        "id": "cRSmDKBjoxbN",
        "colab_type": "code",
        "colab": {}
      },
      "source": [
        "#This fixes pandas importing the Null value from google sheets as string 'Null'\n",
        "df=df.replace(to_replace='Null', value=np.NaN)"
      ],
      "execution_count": 0,
      "outputs": []
    },
    {
      "cell_type": "markdown",
      "metadata": {
        "id": "euO6Wfj_CSPi",
        "colab_type": "text"
      },
      "source": [
        "**Handling Missing Values**"
      ]
    },
    {
      "cell_type": "code",
      "metadata": {
        "id": "zC-K50f9CXRM",
        "colab_type": "code",
        "outputId": "8c789920-0907-443d-c68e-0ab786c27d3d",
        "colab": {
          "base_uri": "https://localhost:8080/",
          "height": 561
        }
      },
      "source": [
        "#This prints the initial sum of missing values per column\n",
        "df.isna().sum()"
      ],
      "execution_count": 0,
      "outputs": [
        {
          "output_type": "execute_result",
          "data": {
            "text/plain": [
              "0\n",
              "clientId                          0\n",
              "clientIncome                      0\n",
              "incomeVerified                  103\n",
              "clientAge                         0\n",
              "clientGender                      0\n",
              "clientMaritalStatus               6\n",
              "clientLoanPurpose                 0\n",
              "clientResidentialStauts        1136\n",
              "clientState                       1\n",
              "clientTimeAtEmployer           4194\n",
              "clientNumberPhoneContacts      2708\n",
              "clientAvgCallsPerDay           2687\n",
              "loanId                            0\n",
              "loanType                          0\n",
              "loanNumber                        0\n",
              "applicationDate                   0\n",
              "approvalDate                      0\n",
              "declinedDate                 159589\n",
              "disbursementDate                  0\n",
              "payout_status                     0\n",
              "dueDate                           0\n",
              "paidAt                        29800\n",
              "loanAmount                        0\n",
              "interestRate                      0\n",
              "loanTerm                          0\n",
              "max_amount_taken                  0\n",
              "max_tenor_taken                   0\n",
              "firstPaymentDefault               0\n",
              "firstPaymentRatio                 0\n",
              "loanDefault                       0\n",
              "dtype: int64"
            ]
          },
          "metadata": {
            "tags": []
          },
          "execution_count": 10
        }
      ]
    },
    {
      "cell_type": "code",
      "metadata": {
        "id": "R-OZVHUvCzNM",
        "colab_type": "code",
        "colab": {}
      },
      "source": [
        "#This drops the columns deemed necessary\n",
        "for item in ['declinedDate','paidAt','payout_status','loanType','approvalDate','applicationDate','disbursementDate','dueDate','clientId']:\n",
        "  df.drop(item,axis=1,inplace=True)\n",
        "#This drops rows with entries of Null\n",
        "df.dropna(subset=['clientState','clientTimeAtEmployer','incomeVerified','clientAvgCallsPerDay','clientNumberPhoneContacts','clientResidentialStauts','clientMaritalStatus'],inplace=True)\n"
      ],
      "execution_count": 0,
      "outputs": []
    },
    {
      "cell_type": "code",
      "metadata": {
        "id": "Ty_pel5IzS-_",
        "colab_type": "code",
        "outputId": "c0d7d6ca-531a-42d8-fa55-30e06025bae7",
        "colab": {
          "base_uri": "https://localhost:8080/",
          "height": 408
        }
      },
      "source": [
        "#This prints the sum of missing values per column after cleaning\n",
        "df.isna().sum()"
      ],
      "execution_count": 0,
      "outputs": [
        {
          "output_type": "execute_result",
          "data": {
            "text/plain": [
              "0\n",
              "clientIncome                 0\n",
              "incomeVerified               0\n",
              "clientAge                    0\n",
              "clientGender                 0\n",
              "clientMaritalStatus          0\n",
              "clientLoanPurpose            0\n",
              "clientResidentialStauts      0\n",
              "clientState                  0\n",
              "clientTimeAtEmployer         0\n",
              "clientNumberPhoneContacts    0\n",
              "clientAvgCallsPerDay         0\n",
              "loanId                       0\n",
              "loanNumber                   0\n",
              "loanAmount                   0\n",
              "interestRate                 0\n",
              "loanTerm                     0\n",
              "max_amount_taken             0\n",
              "max_tenor_taken              0\n",
              "firstPaymentDefault          0\n",
              "firstPaymentRatio            0\n",
              "loanDefault                  0\n",
              "dtype: int64"
            ]
          },
          "metadata": {
            "tags": []
          },
          "execution_count": 12
        }
      ]
    },
    {
      "cell_type": "markdown",
      "metadata": {
        "id": "M31vfclLpz67",
        "colab_type": "text"
      },
      "source": [
        "**Ensuring columns are of the appropriate datatype**"
      ]
    },
    {
      "cell_type": "code",
      "metadata": {
        "id": "OsC7yaG2Zkui",
        "colab_type": "code",
        "colab": {}
      },
      "source": [
        "#This fixes errors in state column\n",
        "df['clientState']=df['clientState'].replace(to_replace='LAGOS ', value='LAGOS')\n",
        "df['clientState']=df['clientState'].replace(to_replace='OJO', value='OYO')"
      ],
      "execution_count": 0,
      "outputs": []
    },
    {
      "cell_type": "code",
      "metadata": {
        "id": "LqqubmtX0SCW",
        "colab_type": "code",
        "outputId": "dd76a5df-9b54-4958-c00a-0cf62c60ba8a",
        "colab": {
          "base_uri": "https://localhost:8080/",
          "height": 408
        }
      },
      "source": [
        "#This displays the current datatypes\n",
        "df.dtypes"
      ],
      "execution_count": 0,
      "outputs": [
        {
          "output_type": "execute_result",
          "data": {
            "text/plain": [
              "0\n",
              "clientIncome                 object\n",
              "incomeVerified               object\n",
              "clientAge                    object\n",
              "clientGender                 object\n",
              "clientMaritalStatus          object\n",
              "clientLoanPurpose            object\n",
              "clientResidentialStauts      object\n",
              "clientState                  object\n",
              "clientTimeAtEmployer         object\n",
              "clientNumberPhoneContacts    object\n",
              "clientAvgCallsPerDay         object\n",
              "loanId                       object\n",
              "loanNumber                   object\n",
              "loanAmount                   object\n",
              "interestRate                 object\n",
              "loanTerm                     object\n",
              "max_amount_taken             object\n",
              "max_tenor_taken              object\n",
              "firstPaymentDefault          object\n",
              "firstPaymentRatio            object\n",
              "loanDefault                  object\n",
              "dtype: object"
            ]
          },
          "metadata": {
            "tags": []
          },
          "execution_count": 14
        }
      ]
    },
    {
      "cell_type": "code",
      "metadata": {
        "id": "Z80Ymks_mUSi",
        "colab_type": "code",
        "colab": {}
      },
      "source": [
        "#This changes certain series to numeric datatype\n",
        "for item in ['loanDefault','firstPaymentRatio','firstPaymentDefault','max_tenor_taken','max_amount_taken','interestRate','loanAmount','clientAvgCallsPerDay','clientNumberPhoneContacts','clientAge','clientIncome']:\n",
        "  df[item]=pd.to_numeric(df[item])\n"
      ],
      "execution_count": 0,
      "outputs": []
    },
    {
      "cell_type": "markdown",
      "metadata": {
        "id": "eEjUvZ1TqB3r",
        "colab_type": "text"
      },
      "source": [
        "**One-hot Encoding Categorical Variables**"
      ]
    },
    {
      "cell_type": "code",
      "metadata": {
        "id": "NsskgFqKrYmz",
        "colab_type": "code",
        "colab": {}
      },
      "source": [
        "#This forces categorical variables and one hot encodes\n",
        "for item in ['loanTerm','loanNumber','clientTimeAtEmployer','clientState','clientResidentialStauts','clientLoanPurpose','clientGender','clientMaritalStatus','incomeVerified']:\n",
        "  df[item]=pd.Categorical(df[item])\n",
        "  df=pd.concat([df,pd.get_dummies(df[item],prefix=item)],axis=1)\n",
        "  df.drop(item,axis=1,inplace=True)"
      ],
      "execution_count": 0,
      "outputs": []
    },
    {
      "cell_type": "code",
      "metadata": {
        "id": "VwUo28dFOtjN",
        "colab_type": "code",
        "colab": {}
      },
      "source": [
        "#This sets the index to the LoanId column\n",
        "df=df.set_index(['loanId'])"
      ],
      "execution_count": 0,
      "outputs": []
    },
    {
      "cell_type": "code",
      "metadata": {
        "id": "NRWrsuUf8lV_",
        "colab_type": "code",
        "outputId": "0dd6d028-84c9-4361-f8a9-e797338caf2b",
        "colab": {
          "base_uri": "https://localhost:8080/",
          "height": 2431
        }
      },
      "source": [
        "#This prints the list of features and datatypes after preprocessing\n",
        "print(df.dtypes.to_string())"
      ],
      "execution_count": 0,
      "outputs": [
        {
          "output_type": "stream",
          "text": [
            "clientIncome                                 float64\n",
            "clientAge                                      int64\n",
            "clientNumberPhoneContacts                      int64\n",
            "clientAvgCallsPerDay                         float64\n",
            "loanAmount                                     int64\n",
            "interestRate                                 float64\n",
            "max_amount_taken                               int64\n",
            "max_tenor_taken                                int64\n",
            "firstPaymentDefault                            int64\n",
            "firstPaymentRatio                            float64\n",
            "loanDefault                                    int64\n",
            "loanTerm_180                                   uint8\n",
            "loanTerm_60                                    uint8\n",
            "loanTerm_90                                    uint8\n",
            "loanNumber_1                                   uint8\n",
            "loanNumber_10                                  uint8\n",
            "loanNumber_11                                  uint8\n",
            "loanNumber_12                                  uint8\n",
            "loanNumber_13                                  uint8\n",
            "loanNumber_14                                  uint8\n",
            "loanNumber_15                                  uint8\n",
            "loanNumber_16                                  uint8\n",
            "loanNumber_17                                  uint8\n",
            "loanNumber_18                                  uint8\n",
            "loanNumber_19                                  uint8\n",
            "loanNumber_2                                   uint8\n",
            "loanNumber_20                                  uint8\n",
            "loanNumber_21                                  uint8\n",
            "loanNumber_22                                  uint8\n",
            "loanNumber_23                                  uint8\n",
            "loanNumber_24                                  uint8\n",
            "loanNumber_25                                  uint8\n",
            "loanNumber_26                                  uint8\n",
            "loanNumber_27                                  uint8\n",
            "loanNumber_28                                  uint8\n",
            "loanNumber_29                                  uint8\n",
            "loanNumber_3                                   uint8\n",
            "loanNumber_30                                  uint8\n",
            "loanNumber_31                                  uint8\n",
            "loanNumber_32                                  uint8\n",
            "loanNumber_4                                   uint8\n",
            "loanNumber_5                                   uint8\n",
            "loanNumber_6                                   uint8\n",
            "loanNumber_7                                   uint8\n",
            "loanNumber_8                                   uint8\n",
            "loanNumber_9                                   uint8\n",
            "clientTimeAtEmployer_-5                        uint8\n",
            "clientTimeAtEmployer_-6                        uint8\n",
            "clientTimeAtEmployer_-7                        uint8\n",
            "clientTimeAtEmployer_0                         uint8\n",
            "clientTimeAtEmployer_1                         uint8\n",
            "clientTimeAtEmployer_10                        uint8\n",
            "clientTimeAtEmployer_11                        uint8\n",
            "clientTimeAtEmployer_12                        uint8\n",
            "clientTimeAtEmployer_13                        uint8\n",
            "clientTimeAtEmployer_14                        uint8\n",
            "clientTimeAtEmployer_15                        uint8\n",
            "clientTimeAtEmployer_16                        uint8\n",
            "clientTimeAtEmployer_17                        uint8\n",
            "clientTimeAtEmployer_18                        uint8\n",
            "clientTimeAtEmployer_19                        uint8\n",
            "clientTimeAtEmployer_2                         uint8\n",
            "clientTimeAtEmployer_20                        uint8\n",
            "clientTimeAtEmployer_21                        uint8\n",
            "clientTimeAtEmployer_22                        uint8\n",
            "clientTimeAtEmployer_23                        uint8\n",
            "clientTimeAtEmployer_24                        uint8\n",
            "clientTimeAtEmployer_25                        uint8\n",
            "clientTimeAtEmployer_26                        uint8\n",
            "clientTimeAtEmployer_27                        uint8\n",
            "clientTimeAtEmployer_28                        uint8\n",
            "clientTimeAtEmployer_29                        uint8\n",
            "clientTimeAtEmployer_3                         uint8\n",
            "clientTimeAtEmployer_30                        uint8\n",
            "clientTimeAtEmployer_31                        uint8\n",
            "clientTimeAtEmployer_32                        uint8\n",
            "clientTimeAtEmployer_33                        uint8\n",
            "clientTimeAtEmployer_34                        uint8\n",
            "clientTimeAtEmployer_35                        uint8\n",
            "clientTimeAtEmployer_36+                       uint8\n",
            "clientTimeAtEmployer_4                         uint8\n",
            "clientTimeAtEmployer_5                         uint8\n",
            "clientTimeAtEmployer_6                         uint8\n",
            "clientTimeAtEmployer_7                         uint8\n",
            "clientTimeAtEmployer_8                         uint8\n",
            "clientTimeAtEmployer_9                         uint8\n",
            "clientState_ABIA                               uint8\n",
            "clientState_ABUJA                              uint8\n",
            "clientState_ADAMAWA                            uint8\n",
            "clientState_AKWA IBOM                          uint8\n",
            "clientState_ANAMBRA                            uint8\n",
            "clientState_BAUCHI                             uint8\n",
            "clientState_BAYELSA                            uint8\n",
            "clientState_BENUE                              uint8\n",
            "clientState_BORNO                              uint8\n",
            "clientState_CROSS RIVER                        uint8\n",
            "clientState_DELTA                              uint8\n",
            "clientState_EBONYI                             uint8\n",
            "clientState_EDO                                uint8\n",
            "clientState_EKITI                              uint8\n",
            "clientState_ENUGU                              uint8\n",
            "clientState_GOMBE                              uint8\n",
            "clientState_IMO                                uint8\n",
            "clientState_JIGAWA                             uint8\n",
            "clientState_KADUNA                             uint8\n",
            "clientState_KANO                               uint8\n",
            "clientState_KATSINA                            uint8\n",
            "clientState_KEBBI                              uint8\n",
            "clientState_KOGI                               uint8\n",
            "clientState_KWARA                              uint8\n",
            "clientState_LAGOS                              uint8\n",
            "clientState_NASARAWA                           uint8\n",
            "clientState_NIGER                              uint8\n",
            "clientState_OGUN                               uint8\n",
            "clientState_ONDO                               uint8\n",
            "clientState_OSUN                               uint8\n",
            "clientState_OYO                                uint8\n",
            "clientState_PLATEAU                            uint8\n",
            "clientState_RIVERS                             uint8\n",
            "clientState_SOKOTO                             uint8\n",
            "clientState_TARABA                             uint8\n",
            "clientState_YOBE                               uint8\n",
            "clientState_ZAMFARA                            uint8\n",
            "clientResidentialStauts_Employer Provided      uint8\n",
            "clientResidentialStauts_Family Owned           uint8\n",
            "clientResidentialStauts_Own Residence          uint8\n",
            "clientResidentialStauts_Rented                 uint8\n",
            "clientResidentialStauts_Temp. Residence        uint8\n",
            "clientLoanPurpose_business                     uint8\n",
            "clientLoanPurpose_education                    uint8\n",
            "clientLoanPurpose_house                        uint8\n",
            "clientLoanPurpose_medical                      uint8\n",
            "clientLoanPurpose_other                        uint8\n",
            "clientGender_FEMALE                            uint8\n",
            "clientGender_MALE                              uint8\n",
            "clientMaritalStatus_Divorced                   uint8\n",
            "clientMaritalStatus_Married                    uint8\n",
            "clientMaritalStatus_Separated                  uint8\n",
            "clientMaritalStatus_Single                     uint8\n",
            "clientMaritalStatus_Widowed                    uint8\n",
            "incomeVerified_false                           uint8\n",
            "incomeVerified_true                            uint8\n"
          ],
          "name": "stdout"
        }
      ]
    },
    {
      "cell_type": "markdown",
      "metadata": {
        "id": "a83VQPE8BCSI",
        "colab_type": "text"
      },
      "source": [
        "####**Exploring numeric columns of the dataset using boxplot to check for outliers**"
      ]
    },
    {
      "cell_type": "markdown",
      "metadata": {
        "id": "znJ-F7VquVaE",
        "colab_type": "text"
      },
      "source": [
        "**Plotting the initial boxplots before removing outliers**"
      ]
    },
    {
      "cell_type": "code",
      "metadata": {
        "id": "aCduQeHCquau",
        "colab_type": "code",
        "outputId": "654ed804-9ae2-4a0d-f64d-d77ea23375cc",
        "colab": {
          "base_uri": "https://localhost:8080/",
          "height": 432
        }
      },
      "source": [
        "sns.boxplot(df['loanAmount'])"
      ],
      "execution_count": 0,
      "outputs": [
        {
          "output_type": "stream",
          "text": [
            "/usr/local/lib/python3.6/dist-packages/seaborn/categorical.py:454: FutureWarning: remove_na is deprecated and is a private function. Do not use.\n",
            "  box_data = remove_na(group_data)\n"
          ],
          "name": "stderr"
        },
        {
          "output_type": "execute_result",
          "data": {
            "text/plain": [
              "<matplotlib.axes._subplots.AxesSubplot at 0x7fb549f19780>"
            ]
          },
          "metadata": {
            "tags": []
          },
          "execution_count": 19
        },
        {
          "output_type": "display_data",
          "data": {
            "image/png": "[encoded data removed]",
            "text/plain": [
              "<Figure size 576x396 with 1 Axes>"
            ]
          },
          "metadata": {
            "tags": []
          }
        }
      ]
    },
    {
      "cell_type": "code",
      "metadata": {
        "id": "1VksM9wSA4Rz",
        "colab_type": "code",
        "outputId": "6f06a9d0-3343-431f-87ec-7f4ee30acc97",
        "colab": {
          "base_uri": "https://localhost:8080/",
          "height": 432
        }
      },
      "source": [
        "sns.boxplot(df['clientIncome'])"
      ],
      "execution_count": 0,
      "outputs": [
        {
          "output_type": "stream",
          "text": [
            "/usr/local/lib/python3.6/dist-packages/seaborn/categorical.py:454: FutureWarning: remove_na is deprecated and is a private function. Do not use.\n",
            "  box_data = remove_na(group_data)\n"
          ],
          "name": "stderr"
        },
        {
          "output_type": "execute_result",
          "data": {
            "text/plain": [
              "<matplotlib.axes._subplots.AxesSubplot at 0x7fb55b2df438>"
            ]
          },
          "metadata": {
            "tags": []
          },
          "execution_count": 20
        },
        {
          "output_type": "display_data",
          "data": {
            "image/png": "[encoded data removed]",
            "text/plain": [
              "<Figure size 576x396 with 1 Axes>"
            ]
          },
          "metadata": {
            "tags": []
          }
        }
      ]
    },
    {
      "cell_type": "code",
      "metadata": {
        "id": "d7H0Elx_SFun",
        "colab_type": "code",
        "outputId": "5789acdd-c2b0-4f0c-9eb1-7e52e93f282b",
        "colab": {
          "base_uri": "https://localhost:8080/",
          "height": 432
        }
      },
      "source": [
        "sns.boxplot(df['clientAge'])"
      ],
      "execution_count": 0,
      "outputs": [
        {
          "output_type": "stream",
          "text": [
            "/usr/local/lib/python3.6/dist-packages/seaborn/categorical.py:454: FutureWarning: remove_na is deprecated and is a private function. Do not use.\n",
            "  box_data = remove_na(group_data)\n"
          ],
          "name": "stderr"
        },
        {
          "output_type": "execute_result",
          "data": {
            "text/plain": [
              "<matplotlib.axes._subplots.AxesSubplot at 0x7fb558a4f080>"
            ]
          },
          "metadata": {
            "tags": []
          },
          "execution_count": 21
        },
        {
          "output_type": "display_data",
          "data": {
            "image/png": "[encoded data removed]",
            "text/plain": [
              "<Figure size 576x396 with 1 Axes>"
            ]
          },
          "metadata": {
            "tags": []
          }
        }
      ]
    },
    {
      "cell_type": "code",
      "metadata": {
        "id": "1QoTIT1xSLOo",
        "colab_type": "code",
        "outputId": "d107c05c-6595-4f5a-e91a-c7d4891d5c6f",
        "colab": {
          "base_uri": "https://localhost:8080/",
          "height": 432
        }
      },
      "source": [
        "sns.boxplot(df['clientNumberPhoneContacts'])"
      ],
      "execution_count": 0,
      "outputs": [
        {
          "output_type": "stream",
          "text": [
            "/usr/local/lib/python3.6/dist-packages/seaborn/categorical.py:454: FutureWarning: remove_na is deprecated and is a private function. Do not use.\n",
            "  box_data = remove_na(group_data)\n"
          ],
          "name": "stderr"
        },
        {
          "output_type": "execute_result",
          "data": {
            "text/plain": [
              "<matplotlib.axes._subplots.AxesSubplot at 0x7fb5589cfef0>"
            ]
          },
          "metadata": {
            "tags": []
          },
          "execution_count": 22
        },
        {
          "output_type": "display_data",
          "data": {
            "image/png": "[encoded data removed]",
            "text/plain": [
              "<Figure size 576x396 with 1 Axes>"
            ]
          },
          "metadata": {
            "tags": []
          }
        }
      ]
    },
    {
      "cell_type": "code",
      "metadata": {
        "id": "w4Ijl5qeSTMu",
        "colab_type": "code",
        "outputId": "d6345017-111a-4743-fa4a-eb504a21e7ee",
        "colab": {
          "base_uri": "https://localhost:8080/",
          "height": 432
        }
      },
      "source": [
        "sns.boxplot(df['clientAvgCallsPerDay'])"
      ],
      "execution_count": 0,
      "outputs": [
        {
          "output_type": "stream",
          "text": [
            "/usr/local/lib/python3.6/dist-packages/seaborn/categorical.py:454: FutureWarning: remove_na is deprecated and is a private function. Do not use.\n",
            "  box_data = remove_na(group_data)\n"
          ],
          "name": "stderr"
        },
        {
          "output_type": "execute_result",
          "data": {
            "text/plain": [
              "<matplotlib.axes._subplots.AxesSubplot at 0x7fb55898d390>"
            ]
          },
          "metadata": {
            "tags": []
          },
          "execution_count": 23
        },
        {
          "output_type": "display_data",
          "data": {
            "image/png": "[encoded data removed]",
            "text/plain": [
              "<Figure size 576x396 with 1 Axes>"
            ]
          },
          "metadata": {
            "tags": []
          }
        }
      ]
    },
    {
      "cell_type": "code",
      "metadata": {
        "id": "vdK3CTNpSbog",
        "colab_type": "code",
        "outputId": "aa5ce70f-da05-426e-cf44-0c8aac205b14",
        "colab": {
          "base_uri": "https://localhost:8080/",
          "height": 432
        }
      },
      "source": [
        "sns.boxplot(df['interestRate'])"
      ],
      "execution_count": 0,
      "outputs": [
        {
          "output_type": "stream",
          "text": [
            "/usr/local/lib/python3.6/dist-packages/seaborn/categorical.py:454: FutureWarning: remove_na is deprecated and is a private function. Do not use.\n",
            "  box_data = remove_na(group_data)\n"
          ],
          "name": "stderr"
        },
        {
          "output_type": "execute_result",
          "data": {
            "text/plain": [
              "<matplotlib.axes._subplots.AxesSubplot at 0x7fb5589029e8>"
            ]
          },
          "metadata": {
            "tags": []
          },
          "execution_count": 24
        },
        {
          "output_type": "display_data",
          "data": {
            "image/png": "[encoded data removed]",
            "text/plain": [
              "<Figure size 576x396 with 1 Axes>"
            ]
          },
          "metadata": {
            "tags": []
          }
        }
      ]
    },
    {
      "cell_type": "markdown",
      "metadata": {
        "id": "lZNYGgSOuwg7",
        "colab_type": "text"
      },
      "source": [
        "**Identifying and removing outliers**"
      ]
    },
    {
      "cell_type": "code",
      "metadata": {
        "id": "sobMNrbcTG0I",
        "colab_type": "code",
        "colab": {}
      },
      "source": [
        "#Explore Z scores\n",
        "for item in ['loanAmount','clientIncome','clientAge','clientNumberPhoneContacts','clientAvgCallsPerDay']:\n",
        "  z=np.abs(stats.zscore(df[item]))\n",
        "  drop_z=(np.where(z>3))\n",
        "  drop_z_list=list(drop_z[0])\n",
        "  df.drop(df.iloc[drop_z_list].index,inplace=True)"
      ],
      "execution_count": 0,
      "outputs": []
    },
    {
      "cell_type": "markdown",
      "metadata": {
        "id": "uQ52Eaq-u1x6",
        "colab_type": "text"
      },
      "source": [
        "**Plotting the numeric columns using boxplots after removing outliers**"
      ]
    },
    {
      "cell_type": "code",
      "metadata": {
        "id": "7TjMe47csNlb",
        "colab_type": "code",
        "outputId": "602d2d9a-e3bd-470d-ee12-a2708d1a1f36",
        "colab": {
          "base_uri": "https://localhost:8080/",
          "height": 432
        }
      },
      "source": [
        "sns.boxplot(df['loanAmount'])"
      ],
      "execution_count": 0,
      "outputs": [
        {
          "output_type": "stream",
          "text": [
            "/usr/local/lib/python3.6/dist-packages/seaborn/categorical.py:454: FutureWarning: remove_na is deprecated and is a private function. Do not use.\n",
            "  box_data = remove_na(group_data)\n"
          ],
          "name": "stderr"
        },
        {
          "output_type": "execute_result",
          "data": {
            "text/plain": [
              "<matplotlib.axes._subplots.AxesSubplot at 0x7fb5588e04a8>"
            ]
          },
          "metadata": {
            "tags": []
          },
          "execution_count": 26
        },
        {
          "output_type": "display_data",
          "data": {
            "image/png": "[encoded data removed]",
            "text/plain": [
              "<Figure size 576x396 with 1 Axes>"
            ]
          },
          "metadata": {
            "tags": []
          }
        }
      ]
    },
    {
      "cell_type": "code",
      "metadata": {
        "id": "0POu-c27f85I",
        "colab_type": "code",
        "outputId": "27161a29-1d54-44ab-d64d-a23fddadb211",
        "colab": {
          "base_uri": "https://localhost:8080/",
          "height": 432
        }
      },
      "source": [
        "sns.boxplot(df['clientIncome'])"
      ],
      "execution_count": 0,
      "outputs": [
        {
          "output_type": "stream",
          "text": [
            "/usr/local/lib/python3.6/dist-packages/seaborn/categorical.py:454: FutureWarning: remove_na is deprecated and is a private function. Do not use.\n",
            "  box_data = remove_na(group_data)\n"
          ],
          "name": "stderr"
        },
        {
          "output_type": "execute_result",
          "data": {
            "text/plain": [
              "<matplotlib.axes._subplots.AxesSubplot at 0x7fb5588481d0>"
            ]
          },
          "metadata": {
            "tags": []
          },
          "execution_count": 27
        },
        {
          "output_type": "display_data",
          "data": {
            "image/png": "[encoded data removed]",
            "text/plain": [
              "<Figure size 576x396 with 1 Axes>"
            ]
          },
          "metadata": {
            "tags": []
          }
        }
      ]
    },
    {
      "cell_type": "code",
      "metadata": {
        "id": "0NbEioOegMXw",
        "colab_type": "code",
        "outputId": "94f79b57-9c6d-450d-b014-8f7631ec7a62",
        "colab": {
          "base_uri": "https://localhost:8080/",
          "height": 432
        }
      },
      "source": [
        "sns.boxplot(df['clientAge'])"
      ],
      "execution_count": 0,
      "outputs": [
        {
          "output_type": "stream",
          "text": [
            "/usr/local/lib/python3.6/dist-packages/seaborn/categorical.py:454: FutureWarning: remove_na is deprecated and is a private function. Do not use.\n",
            "  box_data = remove_na(group_data)\n"
          ],
          "name": "stderr"
        },
        {
          "output_type": "execute_result",
          "data": {
            "text/plain": [
              "<matplotlib.axes._subplots.AxesSubplot at 0x7fb558809710>"
            ]
          },
          "metadata": {
            "tags": []
          },
          "execution_count": 28
        },
        {
          "output_type": "display_data",
          "data": {
            "image/png": "[encoded data removed]",
            "text/plain": [
              "<Figure size 576x396 with 1 Axes>"
            ]
          },
          "metadata": {
            "tags": []
          }
        }
      ]
    },
    {
      "cell_type": "code",
      "metadata": {
        "id": "iHOF1uSlgRiv",
        "colab_type": "code",
        "outputId": "b4c8b0ab-4250-426c-d21d-cf41cc5fa23e",
        "colab": {
          "base_uri": "https://localhost:8080/",
          "height": 432
        }
      },
      "source": [
        "sns.boxplot(df['clientNumberPhoneContacts'])"
      ],
      "execution_count": 0,
      "outputs": [
        {
          "output_type": "stream",
          "text": [
            "/usr/local/lib/python3.6/dist-packages/seaborn/categorical.py:454: FutureWarning: remove_na is deprecated and is a private function. Do not use.\n",
            "  box_data = remove_na(group_data)\n"
          ],
          "name": "stderr"
        },
        {
          "output_type": "execute_result",
          "data": {
            "text/plain": [
              "<matplotlib.axes._subplots.AxesSubplot at 0x7fb5588e0ac8>"
            ]
          },
          "metadata": {
            "tags": []
          },
          "execution_count": 29
        },
        {
          "output_type": "display_data",
          "data": {
            "image/png": "[encoded data removed]",
            "text/plain": [
              "<Figure size 576x396 with 1 Axes>"
            ]
          },
          "metadata": {
            "tags": []
          }
        }
      ]
    },
    {
      "cell_type": "code",
      "metadata": {
        "id": "31K-5nFfgcjm",
        "colab_type": "code",
        "outputId": "fc1be8e8-6569-4b19-cd45-4d4ff11227dd",
        "colab": {
          "base_uri": "https://localhost:8080/",
          "height": 432
        }
      },
      "source": [
        "sns.boxplot(df['clientAvgCallsPerDay'])"
      ],
      "execution_count": 0,
      "outputs": [
        {
          "output_type": "stream",
          "text": [
            "/usr/local/lib/python3.6/dist-packages/seaborn/categorical.py:454: FutureWarning: remove_na is deprecated and is a private function. Do not use.\n",
            "  box_data = remove_na(group_data)\n"
          ],
          "name": "stderr"
        },
        {
          "output_type": "execute_result",
          "data": {
            "text/plain": [
              "<matplotlib.axes._subplots.AxesSubplot at 0x7fb558748438>"
            ]
          },
          "metadata": {
            "tags": []
          },
          "execution_count": 30
        },
        {
          "output_type": "display_data",
          "data": {
            "image/png": "[encoded data removed]",
            "text/plain": [
              "<Figure size 576x396 with 1 Axes>"
            ]
          },
          "metadata": {
            "tags": []
          }
        }
      ]
    },
    {
      "cell_type": "markdown",
      "metadata": {
        "id": "NBShf5AeseZj",
        "colab_type": "text"
      },
      "source": [
        "**Feature Engineering**"
      ]
    },
    {
      "cell_type": "code",
      "metadata": {
        "id": "Zg1pUN7rqY0-",
        "colab_type": "code",
        "outputId": "5dbb9ebb-a660-4658-a7fa-234539a77379",
        "colab": {
          "base_uri": "https://localhost:8080/",
          "height": 2020
        }
      },
      "source": [
        "#Creates the column ratioLoanIncome which represents the ratio of the client's loan amount to his income\n",
        "df['ratioLoanIncome']=df['loanAmount']/df['clientIncome']\n",
        "df"
      ],
      "execution_count": 0,
      "outputs": [
        {
          "output_type": "execute_result",
          "data": {
            "text/html": [
              "<div>\n",
              "<style scoped>\n",
              "    .dataframe tbody tr th:only-of-type {\n",
              "        vertical-align: middle;\n",
              "    }\n",
              "\n",
              "    .dataframe tbody tr th {\n",
              "        vertical-align: top;\n",
              "    }\n",
              "\n",
              "    .dataframe thead th {\n",
              "        text-align: right;\n",
              "    }\n",
              "</style>\n",
              "<table border=\"1\" class=\"dataframe\">\n",
              "  <thead>\n",
              "    <tr style=\"text-align: right;\">\n",
              "      <th></th>\n",
              "      <th>clientIncome</th>\n",
              "      <th>clientAge</th>\n",
              "      <th>clientNumberPhoneContacts</th>\n",
              "      <th>clientAvgCallsPerDay</th>\n",
              "      <th>loanAmount</th>\n",
              "      <th>interestRate</th>\n",
              "      <th>max_amount_taken</th>\n",
              "      <th>max_tenor_taken</th>\n",
              "      <th>firstPaymentDefault</th>\n",
              "      <th>firstPaymentRatio</th>\n",
              "      <th>...</th>\n",
              "      <th>clientGender_FEMALE</th>\n",
              "      <th>clientGender_MALE</th>\n",
              "      <th>clientMaritalStatus_Divorced</th>\n",
              "      <th>clientMaritalStatus_Married</th>\n",
              "      <th>clientMaritalStatus_Separated</th>\n",
              "      <th>clientMaritalStatus_Single</th>\n",
              "      <th>clientMaritalStatus_Widowed</th>\n",
              "      <th>incomeVerified_false</th>\n",
              "      <th>incomeVerified_true</th>\n",
              "      <th>ratioLoanIncome</th>\n",
              "    </tr>\n",
              "    <tr>\n",
              "      <th>loanId</th>\n",
              "      <th></th>\n",
              "      <th></th>\n",
              "      <th></th>\n",
              "      <th></th>\n",
              "      <th></th>\n",
              "      <th></th>\n",
              "      <th></th>\n",
              "      <th></th>\n",
              "      <th></th>\n",
              "      <th></th>\n",
              "      <th></th>\n",
              "      <th></th>\n",
              "      <th></th>\n",
              "      <th></th>\n",
              "      <th></th>\n",
              "      <th></th>\n",
              "      <th></th>\n",
              "      <th></th>\n",
              "      <th></th>\n",
              "      <th></th>\n",
              "      <th></th>\n",
              "    </tr>\n",
              "  </thead>\n",
              "  <tbody>\n",
              "    <tr>\n",
              "      <th>302867672</th>\n",
              "      <td>58763.82</td>\n",
              "      <td>29</td>\n",
              "      <td>3131</td>\n",
              "      <td>83.900000</td>\n",
              "      <td>48000</td>\n",
              "      <td>7.5</td>\n",
              "      <td>0</td>\n",
              "      <td>1</td>\n",
              "      <td>1</td>\n",
              "      <td>0.000000</td>\n",
              "      <td>...</td>\n",
              "      <td>1</td>\n",
              "      <td>0</td>\n",
              "      <td>0</td>\n",
              "      <td>1</td>\n",
              "      <td>0</td>\n",
              "      <td>0</td>\n",
              "      <td>0</td>\n",
              "      <td>0</td>\n",
              "      <td>1</td>\n",
              "      <td>0.816829</td>\n",
              "    </tr>\n",
              "    <tr>\n",
              "      <th>302178646371</th>\n",
              "      <td>35000.00</td>\n",
              "      <td>45</td>\n",
              "      <td>722</td>\n",
              "      <td>8.000000</td>\n",
              "      <td>43000</td>\n",
              "      <td>10.0</td>\n",
              "      <td>0</td>\n",
              "      <td>0</td>\n",
              "      <td>0</td>\n",
              "      <td>0.000000</td>\n",
              "      <td>...</td>\n",
              "      <td>1</td>\n",
              "      <td>0</td>\n",
              "      <td>0</td>\n",
              "      <td>1</td>\n",
              "      <td>0</td>\n",
              "      <td>0</td>\n",
              "      <td>0</td>\n",
              "      <td>1</td>\n",
              "      <td>0</td>\n",
              "      <td>1.228571</td>\n",
              "    </tr>\n",
              "    <tr>\n",
              "      <th>302832638</th>\n",
              "      <td>105000.00</td>\n",
              "      <td>34</td>\n",
              "      <td>1159</td>\n",
              "      <td>45.560345</td>\n",
              "      <td>31500</td>\n",
              "      <td>12.5</td>\n",
              "      <td>1</td>\n",
              "      <td>1</td>\n",
              "      <td>0</td>\n",
              "      <td>0.000000</td>\n",
              "      <td>...</td>\n",
              "      <td>0</td>\n",
              "      <td>1</td>\n",
              "      <td>0</td>\n",
              "      <td>1</td>\n",
              "      <td>0</td>\n",
              "      <td>0</td>\n",
              "      <td>0</td>\n",
              "      <td>1</td>\n",
              "      <td>0</td>\n",
              "      <td>0.300000</td>\n",
              "    </tr>\n",
              "    <tr>\n",
              "      <th>302664395</th>\n",
              "      <td>192500.00</td>\n",
              "      <td>28</td>\n",
              "      <td>571</td>\n",
              "      <td>6.659686</td>\n",
              "      <td>31500</td>\n",
              "      <td>12.5</td>\n",
              "      <td>1</td>\n",
              "      <td>1</td>\n",
              "      <td>1</td>\n",
              "      <td>1.000000</td>\n",
              "      <td>...</td>\n",
              "      <td>0</td>\n",
              "      <td>1</td>\n",
              "      <td>0</td>\n",
              "      <td>0</td>\n",
              "      <td>0</td>\n",
              "      <td>1</td>\n",
              "      <td>0</td>\n",
              "      <td>1</td>\n",
              "      <td>0</td>\n",
              "      <td>0.163636</td>\n",
              "    </tr>\n",
              "    <tr>\n",
              "      <th>302388360535</th>\n",
              "      <td>52500.00</td>\n",
              "      <td>29</td>\n",
              "      <td>207</td>\n",
              "      <td>16.000000</td>\n",
              "      <td>43000</td>\n",
              "      <td>10.0</td>\n",
              "      <td>0</td>\n",
              "      <td>0</td>\n",
              "      <td>0</td>\n",
              "      <td>0.000000</td>\n",
              "      <td>...</td>\n",
              "      <td>1</td>\n",
              "      <td>0</td>\n",
              "      <td>0</td>\n",
              "      <td>0</td>\n",
              "      <td>0</td>\n",
              "      <td>1</td>\n",
              "      <td>0</td>\n",
              "      <td>1</td>\n",
              "      <td>0</td>\n",
              "      <td>0.819048</td>\n",
              "    </tr>\n",
              "    <tr>\n",
              "      <th>302789501</th>\n",
              "      <td>60000.00</td>\n",
              "      <td>35</td>\n",
              "      <td>270</td>\n",
              "      <td>11.402273</td>\n",
              "      <td>44500</td>\n",
              "      <td>5.0</td>\n",
              "      <td>0</td>\n",
              "      <td>1</td>\n",
              "      <td>0</td>\n",
              "      <td>0.000000</td>\n",
              "      <td>...</td>\n",
              "      <td>1</td>\n",
              "      <td>0</td>\n",
              "      <td>0</td>\n",
              "      <td>0</td>\n",
              "      <td>0</td>\n",
              "      <td>1</td>\n",
              "      <td>0</td>\n",
              "      <td>0</td>\n",
              "      <td>1</td>\n",
              "      <td>0.741667</td>\n",
              "    </tr>\n",
              "    <tr>\n",
              "      <th>303161580</th>\n",
              "      <td>103133.77</td>\n",
              "      <td>31</td>\n",
              "      <td>473</td>\n",
              "      <td>91.333333</td>\n",
              "      <td>70000</td>\n",
              "      <td>7.5</td>\n",
              "      <td>1</td>\n",
              "      <td>1</td>\n",
              "      <td>0</td>\n",
              "      <td>0.000000</td>\n",
              "      <td>...</td>\n",
              "      <td>0</td>\n",
              "      <td>1</td>\n",
              "      <td>0</td>\n",
              "      <td>1</td>\n",
              "      <td>0</td>\n",
              "      <td>0</td>\n",
              "      <td>0</td>\n",
              "      <td>0</td>\n",
              "      <td>1</td>\n",
              "      <td>0.678730</td>\n",
              "    </tr>\n",
              "    <tr>\n",
              "      <th>301872918670</th>\n",
              "      <td>100000.00</td>\n",
              "      <td>36</td>\n",
              "      <td>1289</td>\n",
              "      <td>95.487500</td>\n",
              "      <td>70000</td>\n",
              "      <td>7.5</td>\n",
              "      <td>0</td>\n",
              "      <td>1</td>\n",
              "      <td>0</td>\n",
              "      <td>0.000000</td>\n",
              "      <td>...</td>\n",
              "      <td>0</td>\n",
              "      <td>1</td>\n",
              "      <td>0</td>\n",
              "      <td>1</td>\n",
              "      <td>0</td>\n",
              "      <td>0</td>\n",
              "      <td>0</td>\n",
              "      <td>0</td>\n",
              "      <td>1</td>\n",
              "      <td>0.700000</td>\n",
              "    </tr>\n",
              "    <tr>\n",
              "      <th>301876312275</th>\n",
              "      <td>35000.00</td>\n",
              "      <td>28</td>\n",
              "      <td>253</td>\n",
              "      <td>55.000000</td>\n",
              "      <td>73500</td>\n",
              "      <td>7.5</td>\n",
              "      <td>0</td>\n",
              "      <td>1</td>\n",
              "      <td>1</td>\n",
              "      <td>0.000000</td>\n",
              "      <td>...</td>\n",
              "      <td>1</td>\n",
              "      <td>0</td>\n",
              "      <td>0</td>\n",
              "      <td>1</td>\n",
              "      <td>0</td>\n",
              "      <td>0</td>\n",
              "      <td>0</td>\n",
              "      <td>1</td>\n",
              "      <td>0</td>\n",
              "      <td>2.100000</td>\n",
              "    </tr>\n",
              "    <tr>\n",
              "      <th>301965181877</th>\n",
              "      <td>105000.00</td>\n",
              "      <td>35</td>\n",
              "      <td>380</td>\n",
              "      <td>11.544693</td>\n",
              "      <td>91000</td>\n",
              "      <td>5.0</td>\n",
              "      <td>1</td>\n",
              "      <td>1</td>\n",
              "      <td>1</td>\n",
              "      <td>1.000000</td>\n",
              "      <td>...</td>\n",
              "      <td>1</td>\n",
              "      <td>0</td>\n",
              "      <td>0</td>\n",
              "      <td>1</td>\n",
              "      <td>0</td>\n",
              "      <td>0</td>\n",
              "      <td>0</td>\n",
              "      <td>1</td>\n",
              "      <td>0</td>\n",
              "      <td>0.866667</td>\n",
              "    </tr>\n",
              "    <tr>\n",
              "      <th>302967784</th>\n",
              "      <td>75000.00</td>\n",
              "      <td>27</td>\n",
              "      <td>1130</td>\n",
              "      <td>212.721805</td>\n",
              "      <td>28000</td>\n",
              "      <td>12.5</td>\n",
              "      <td>1</td>\n",
              "      <td>1</td>\n",
              "      <td>0</td>\n",
              "      <td>0.000000</td>\n",
              "      <td>...</td>\n",
              "      <td>0</td>\n",
              "      <td>1</td>\n",
              "      <td>0</td>\n",
              "      <td>0</td>\n",
              "      <td>0</td>\n",
              "      <td>1</td>\n",
              "      <td>0</td>\n",
              "      <td>0</td>\n",
              "      <td>1</td>\n",
              "      <td>0.373333</td>\n",
              "    </tr>\n",
              "    <tr>\n",
              "      <th>301935002451</th>\n",
              "      <td>125000.00</td>\n",
              "      <td>31</td>\n",
              "      <td>2207</td>\n",
              "      <td>217.995485</td>\n",
              "      <td>98000</td>\n",
              "      <td>5.0</td>\n",
              "      <td>0</td>\n",
              "      <td>1</td>\n",
              "      <td>1</td>\n",
              "      <td>0.976452</td>\n",
              "      <td>...</td>\n",
              "      <td>0</td>\n",
              "      <td>1</td>\n",
              "      <td>0</td>\n",
              "      <td>0</td>\n",
              "      <td>0</td>\n",
              "      <td>1</td>\n",
              "      <td>0</td>\n",
              "      <td>0</td>\n",
              "      <td>1</td>\n",
              "      <td>0.784000</td>\n",
              "    </tr>\n",
              "    <tr>\n",
              "      <th>302885675</th>\n",
              "      <td>50000.00</td>\n",
              "      <td>34</td>\n",
              "      <td>409</td>\n",
              "      <td>11.837472</td>\n",
              "      <td>58000</td>\n",
              "      <td>5.0</td>\n",
              "      <td>1</td>\n",
              "      <td>1</td>\n",
              "      <td>0</td>\n",
              "      <td>0.000000</td>\n",
              "      <td>...</td>\n",
              "      <td>0</td>\n",
              "      <td>1</td>\n",
              "      <td>0</td>\n",
              "      <td>1</td>\n",
              "      <td>0</td>\n",
              "      <td>0</td>\n",
              "      <td>0</td>\n",
              "      <td>0</td>\n",
              "      <td>1</td>\n",
              "      <td>1.160000</td>\n",
              "    </tr>\n",
              "    <tr>\n",
              "      <th>301954853671</th>\n",
              "      <td>70000.00</td>\n",
              "      <td>47</td>\n",
              "      <td>816</td>\n",
              "      <td>25.372928</td>\n",
              "      <td>81000</td>\n",
              "      <td>5.0</td>\n",
              "      <td>1</td>\n",
              "      <td>1</td>\n",
              "      <td>0</td>\n",
              "      <td>0.000000</td>\n",
              "      <td>...</td>\n",
              "      <td>0</td>\n",
              "      <td>1</td>\n",
              "      <td>0</td>\n",
              "      <td>1</td>\n",
              "      <td>0</td>\n",
              "      <td>0</td>\n",
              "      <td>0</td>\n",
              "      <td>0</td>\n",
              "      <td>1</td>\n",
              "      <td>1.157143</td>\n",
              "    </tr>\n",
              "    <tr>\n",
              "      <th>302614400</th>\n",
              "      <td>90066.46</td>\n",
              "      <td>34</td>\n",
              "      <td>2469</td>\n",
              "      <td>109.006369</td>\n",
              "      <td>34000</td>\n",
              "      <td>12.5</td>\n",
              "      <td>1</td>\n",
              "      <td>1</td>\n",
              "      <td>0</td>\n",
              "      <td>0.000000</td>\n",
              "      <td>...</td>\n",
              "      <td>0</td>\n",
              "      <td>1</td>\n",
              "      <td>0</td>\n",
              "      <td>1</td>\n",
              "      <td>0</td>\n",
              "      <td>0</td>\n",
              "      <td>0</td>\n",
              "      <td>0</td>\n",
              "      <td>1</td>\n",
              "      <td>0.377499</td>\n",
              "    </tr>\n",
              "    <tr>\n",
              "      <th>301728380656</th>\n",
              "      <td>100000.00</td>\n",
              "      <td>29</td>\n",
              "      <td>1483</td>\n",
              "      <td>216.137255</td>\n",
              "      <td>120000</td>\n",
              "      <td>7.5</td>\n",
              "      <td>1</td>\n",
              "      <td>1</td>\n",
              "      <td>0</td>\n",
              "      <td>0.000000</td>\n",
              "      <td>...</td>\n",
              "      <td>0</td>\n",
              "      <td>1</td>\n",
              "      <td>0</td>\n",
              "      <td>0</td>\n",
              "      <td>0</td>\n",
              "      <td>1</td>\n",
              "      <td>0</td>\n",
              "      <td>0</td>\n",
              "      <td>1</td>\n",
              "      <td>1.200000</td>\n",
              "    </tr>\n",
              "    <tr>\n",
              "      <th>303053235</th>\n",
              "      <td>100000.00</td>\n",
              "      <td>44</td>\n",
              "      <td>2785</td>\n",
              "      <td>185.666667</td>\n",
              "      <td>119500</td>\n",
              "      <td>7.5</td>\n",
              "      <td>0</td>\n",
              "      <td>1</td>\n",
              "      <td>0</td>\n",
              "      <td>0.000000</td>\n",
              "      <td>...</td>\n",
              "      <td>0</td>\n",
              "      <td>1</td>\n",
              "      <td>0</td>\n",
              "      <td>1</td>\n",
              "      <td>0</td>\n",
              "      <td>0</td>\n",
              "      <td>0</td>\n",
              "      <td>0</td>\n",
              "      <td>1</td>\n",
              "      <td>1.195000</td>\n",
              "    </tr>\n",
              "    <tr>\n",
              "      <th>301860410618</th>\n",
              "      <td>94000.00</td>\n",
              "      <td>43</td>\n",
              "      <td>1260</td>\n",
              "      <td>116.991597</td>\n",
              "      <td>92000</td>\n",
              "      <td>5.0</td>\n",
              "      <td>0</td>\n",
              "      <td>1</td>\n",
              "      <td>0</td>\n",
              "      <td>0.000000</td>\n",
              "      <td>...</td>\n",
              "      <td>0</td>\n",
              "      <td>1</td>\n",
              "      <td>0</td>\n",
              "      <td>1</td>\n",
              "      <td>0</td>\n",
              "      <td>0</td>\n",
              "      <td>0</td>\n",
              "      <td>0</td>\n",
              "      <td>1</td>\n",
              "      <td>0.978723</td>\n",
              "    </tr>\n",
              "    <tr>\n",
              "      <th>302750679</th>\n",
              "      <td>17500.00</td>\n",
              "      <td>27</td>\n",
              "      <td>50</td>\n",
              "      <td>9.000000</td>\n",
              "      <td>11000</td>\n",
              "      <td>20.0</td>\n",
              "      <td>0</td>\n",
              "      <td>1</td>\n",
              "      <td>0</td>\n",
              "      <td>0.000000</td>\n",
              "      <td>...</td>\n",
              "      <td>1</td>\n",
              "      <td>0</td>\n",
              "      <td>0</td>\n",
              "      <td>0</td>\n",
              "      <td>0</td>\n",
              "      <td>1</td>\n",
              "      <td>0</td>\n",
              "      <td>1</td>\n",
              "      <td>0</td>\n",
              "      <td>0.628571</td>\n",
              "    </tr>\n",
              "    <tr>\n",
              "      <th>301803568089</th>\n",
              "      <td>140000.00</td>\n",
              "      <td>40</td>\n",
              "      <td>2136</td>\n",
              "      <td>18.928416</td>\n",
              "      <td>21500</td>\n",
              "      <td>12.5</td>\n",
              "      <td>1</td>\n",
              "      <td>1</td>\n",
              "      <td>1</td>\n",
              "      <td>0.000000</td>\n",
              "      <td>...</td>\n",
              "      <td>1</td>\n",
              "      <td>0</td>\n",
              "      <td>0</td>\n",
              "      <td>0</td>\n",
              "      <td>0</td>\n",
              "      <td>1</td>\n",
              "      <td>0</td>\n",
              "      <td>1</td>\n",
              "      <td>0</td>\n",
              "      <td>0.153571</td>\n",
              "    </tr>\n",
              "    <tr>\n",
              "      <th>302735997</th>\n",
              "      <td>70000.00</td>\n",
              "      <td>30</td>\n",
              "      <td>3320</td>\n",
              "      <td>49.623529</td>\n",
              "      <td>56500</td>\n",
              "      <td>7.5</td>\n",
              "      <td>1</td>\n",
              "      <td>1</td>\n",
              "      <td>0</td>\n",
              "      <td>0.000000</td>\n",
              "      <td>...</td>\n",
              "      <td>1</td>\n",
              "      <td>0</td>\n",
              "      <td>0</td>\n",
              "      <td>1</td>\n",
              "      <td>0</td>\n",
              "      <td>0</td>\n",
              "      <td>0</td>\n",
              "      <td>1</td>\n",
              "      <td>0</td>\n",
              "      <td>0.807143</td>\n",
              "    </tr>\n",
              "    <tr>\n",
              "      <th>302105149361</th>\n",
              "      <td>150000.00</td>\n",
              "      <td>43</td>\n",
              "      <td>317</td>\n",
              "      <td>136.836364</td>\n",
              "      <td>56500</td>\n",
              "      <td>12.5</td>\n",
              "      <td>1</td>\n",
              "      <td>1</td>\n",
              "      <td>1</td>\n",
              "      <td>0.980692</td>\n",
              "      <td>...</td>\n",
              "      <td>0</td>\n",
              "      <td>1</td>\n",
              "      <td>0</td>\n",
              "      <td>1</td>\n",
              "      <td>0</td>\n",
              "      <td>0</td>\n",
              "      <td>0</td>\n",
              "      <td>0</td>\n",
              "      <td>1</td>\n",
              "      <td>0.376667</td>\n",
              "    </tr>\n",
              "    <tr>\n",
              "      <th>302989914</th>\n",
              "      <td>71694.85</td>\n",
              "      <td>35</td>\n",
              "      <td>1095</td>\n",
              "      <td>19.338583</td>\n",
              "      <td>31000</td>\n",
              "      <td>12.5</td>\n",
              "      <td>0</td>\n",
              "      <td>1</td>\n",
              "      <td>1</td>\n",
              "      <td>0.587427</td>\n",
              "      <td>...</td>\n",
              "      <td>0</td>\n",
              "      <td>1</td>\n",
              "      <td>0</td>\n",
              "      <td>1</td>\n",
              "      <td>0</td>\n",
              "      <td>0</td>\n",
              "      <td>0</td>\n",
              "      <td>0</td>\n",
              "      <td>1</td>\n",
              "      <td>0.432388</td>\n",
              "    </tr>\n",
              "    <tr>\n",
              "      <th>PP1726476070</th>\n",
              "      <td>51858.91</td>\n",
              "      <td>25</td>\n",
              "      <td>434</td>\n",
              "      <td>55.884354</td>\n",
              "      <td>26000</td>\n",
              "      <td>6.0</td>\n",
              "      <td>0</td>\n",
              "      <td>1</td>\n",
              "      <td>0</td>\n",
              "      <td>0.000000</td>\n",
              "      <td>...</td>\n",
              "      <td>0</td>\n",
              "      <td>1</td>\n",
              "      <td>0</td>\n",
              "      <td>0</td>\n",
              "      <td>0</td>\n",
              "      <td>1</td>\n",
              "      <td>0</td>\n",
              "      <td>0</td>\n",
              "      <td>1</td>\n",
              "      <td>0.501360</td>\n",
              "    </tr>\n",
              "    <tr>\n",
              "      <th>302312070851</th>\n",
              "      <td>17500.00</td>\n",
              "      <td>26</td>\n",
              "      <td>276</td>\n",
              "      <td>33.306075</td>\n",
              "      <td>12500</td>\n",
              "      <td>15.0</td>\n",
              "      <td>0</td>\n",
              "      <td>0</td>\n",
              "      <td>0</td>\n",
              "      <td>0.000000</td>\n",
              "      <td>...</td>\n",
              "      <td>1</td>\n",
              "      <td>0</td>\n",
              "      <td>0</td>\n",
              "      <td>0</td>\n",
              "      <td>0</td>\n",
              "      <td>1</td>\n",
              "      <td>0</td>\n",
              "      <td>1</td>\n",
              "      <td>0</td>\n",
              "      <td>0.714286</td>\n",
              "    </tr>\n",
              "    <tr>\n",
              "      <th>301940962311</th>\n",
              "      <td>10000.00</td>\n",
              "      <td>32</td>\n",
              "      <td>1771</td>\n",
              "      <td>0.664062</td>\n",
              "      <td>82500</td>\n",
              "      <td>5.0</td>\n",
              "      <td>1</td>\n",
              "      <td>1</td>\n",
              "      <td>1</td>\n",
              "      <td>0.000000</td>\n",
              "      <td>...</td>\n",
              "      <td>1</td>\n",
              "      <td>0</td>\n",
              "      <td>0</td>\n",
              "      <td>1</td>\n",
              "      <td>0</td>\n",
              "      <td>0</td>\n",
              "      <td>0</td>\n",
              "      <td>1</td>\n",
              "      <td>0</td>\n",
              "      <td>8.250000</td>\n",
              "    </tr>\n",
              "    <tr>\n",
              "      <th>301783343070</th>\n",
              "      <td>105000.00</td>\n",
              "      <td>30</td>\n",
              "      <td>1283</td>\n",
              "      <td>1.247604</td>\n",
              "      <td>22500</td>\n",
              "      <td>15.0</td>\n",
              "      <td>1</td>\n",
              "      <td>1</td>\n",
              "      <td>1</td>\n",
              "      <td>0.000000</td>\n",
              "      <td>...</td>\n",
              "      <td>0</td>\n",
              "      <td>1</td>\n",
              "      <td>0</td>\n",
              "      <td>0</td>\n",
              "      <td>0</td>\n",
              "      <td>1</td>\n",
              "      <td>0</td>\n",
              "      <td>1</td>\n",
              "      <td>0</td>\n",
              "      <td>0.214286</td>\n",
              "    </tr>\n",
              "    <tr>\n",
              "      <th>303082911</th>\n",
              "      <td>59095.00</td>\n",
              "      <td>27</td>\n",
              "      <td>2217</td>\n",
              "      <td>177.516892</td>\n",
              "      <td>31500</td>\n",
              "      <td>10.0</td>\n",
              "      <td>0</td>\n",
              "      <td>0</td>\n",
              "      <td>1</td>\n",
              "      <td>1.000000</td>\n",
              "      <td>...</td>\n",
              "      <td>0</td>\n",
              "      <td>1</td>\n",
              "      <td>0</td>\n",
              "      <td>0</td>\n",
              "      <td>0</td>\n",
              "      <td>1</td>\n",
              "      <td>0</td>\n",
              "      <td>0</td>\n",
              "      <td>1</td>\n",
              "      <td>0.533040</td>\n",
              "    </tr>\n",
              "    <tr>\n",
              "      <th>303077030</th>\n",
              "      <td>17500.00</td>\n",
              "      <td>24</td>\n",
              "      <td>1920</td>\n",
              "      <td>159.134969</td>\n",
              "      <td>16000</td>\n",
              "      <td>10.0</td>\n",
              "      <td>0</td>\n",
              "      <td>1</td>\n",
              "      <td>1</td>\n",
              "      <td>0.000000</td>\n",
              "      <td>...</td>\n",
              "      <td>1</td>\n",
              "      <td>0</td>\n",
              "      <td>0</td>\n",
              "      <td>0</td>\n",
              "      <td>0</td>\n",
              "      <td>1</td>\n",
              "      <td>0</td>\n",
              "      <td>1</td>\n",
              "      <td>0</td>\n",
              "      <td>0.914286</td>\n",
              "    </tr>\n",
              "    <tr>\n",
              "      <th>302774495</th>\n",
              "      <td>20000.00</td>\n",
              "      <td>28</td>\n",
              "      <td>2100</td>\n",
              "      <td>23.161538</td>\n",
              "      <td>35000</td>\n",
              "      <td>12.5</td>\n",
              "      <td>0</td>\n",
              "      <td>1</td>\n",
              "      <td>0</td>\n",
              "      <td>0.000000</td>\n",
              "      <td>...</td>\n",
              "      <td>1</td>\n",
              "      <td>0</td>\n",
              "      <td>0</td>\n",
              "      <td>0</td>\n",
              "      <td>0</td>\n",
              "      <td>1</td>\n",
              "      <td>0</td>\n",
              "      <td>1</td>\n",
              "      <td>0</td>\n",
              "      <td>1.750000</td>\n",
              "    </tr>\n",
              "    <tr>\n",
              "      <th>...</th>\n",
              "      <td>...</td>\n",
              "      <td>...</td>\n",
              "      <td>...</td>\n",
              "      <td>...</td>\n",
              "      <td>...</td>\n",
              "      <td>...</td>\n",
              "      <td>...</td>\n",
              "      <td>...</td>\n",
              "      <td>...</td>\n",
              "      <td>...</td>\n",
              "      <td>...</td>\n",
              "      <td>...</td>\n",
              "      <td>...</td>\n",
              "      <td>...</td>\n",
              "      <td>...</td>\n",
              "      <td>...</td>\n",
              "      <td>...</td>\n",
              "      <td>...</td>\n",
              "      <td>...</td>\n",
              "      <td>...</td>\n",
              "      <td>...</td>\n",
              "    </tr>\n",
              "    <tr>\n",
              "      <th>302729076</th>\n",
              "      <td>70000.00</td>\n",
              "      <td>40</td>\n",
              "      <td>3710</td>\n",
              "      <td>246.672131</td>\n",
              "      <td>34500</td>\n",
              "      <td>12.5</td>\n",
              "      <td>1</td>\n",
              "      <td>1</td>\n",
              "      <td>0</td>\n",
              "      <td>0.000000</td>\n",
              "      <td>...</td>\n",
              "      <td>1</td>\n",
              "      <td>0</td>\n",
              "      <td>0</td>\n",
              "      <td>1</td>\n",
              "      <td>0</td>\n",
              "      <td>0</td>\n",
              "      <td>0</td>\n",
              "      <td>1</td>\n",
              "      <td>0</td>\n",
              "      <td>0.492857</td>\n",
              "    </tr>\n",
              "    <tr>\n",
              "      <th>302880424</th>\n",
              "      <td>35000.00</td>\n",
              "      <td>27</td>\n",
              "      <td>358</td>\n",
              "      <td>29.888889</td>\n",
              "      <td>34500</td>\n",
              "      <td>12.5</td>\n",
              "      <td>1</td>\n",
              "      <td>1</td>\n",
              "      <td>0</td>\n",
              "      <td>0.000000</td>\n",
              "      <td>...</td>\n",
              "      <td>1</td>\n",
              "      <td>0</td>\n",
              "      <td>0</td>\n",
              "      <td>1</td>\n",
              "      <td>0</td>\n",
              "      <td>0</td>\n",
              "      <td>0</td>\n",
              "      <td>1</td>\n",
              "      <td>0</td>\n",
              "      <td>0.985714</td>\n",
              "    </tr>\n",
              "    <tr>\n",
              "      <th>302449419214</th>\n",
              "      <td>52500.00</td>\n",
              "      <td>28</td>\n",
              "      <td>470</td>\n",
              "      <td>12.959578</td>\n",
              "      <td>34500</td>\n",
              "      <td>12.5</td>\n",
              "      <td>1</td>\n",
              "      <td>1</td>\n",
              "      <td>1</td>\n",
              "      <td>0.000000</td>\n",
              "      <td>...</td>\n",
              "      <td>0</td>\n",
              "      <td>1</td>\n",
              "      <td>0</td>\n",
              "      <td>0</td>\n",
              "      <td>0</td>\n",
              "      <td>1</td>\n",
              "      <td>0</td>\n",
              "      <td>1</td>\n",
              "      <td>0</td>\n",
              "      <td>0.657143</td>\n",
              "    </tr>\n",
              "    <tr>\n",
              "      <th>302781333</th>\n",
              "      <td>35000.00</td>\n",
              "      <td>44</td>\n",
              "      <td>130</td>\n",
              "      <td>2.200000</td>\n",
              "      <td>34500</td>\n",
              "      <td>12.5</td>\n",
              "      <td>1</td>\n",
              "      <td>1</td>\n",
              "      <td>1</td>\n",
              "      <td>0.000000</td>\n",
              "      <td>...</td>\n",
              "      <td>0</td>\n",
              "      <td>1</td>\n",
              "      <td>0</td>\n",
              "      <td>1</td>\n",
              "      <td>0</td>\n",
              "      <td>0</td>\n",
              "      <td>0</td>\n",
              "      <td>1</td>\n",
              "      <td>0</td>\n",
              "      <td>0.985714</td>\n",
              "    </tr>\n",
              "    <tr>\n",
              "      <th>302153741101</th>\n",
              "      <td>52500.00</td>\n",
              "      <td>32</td>\n",
              "      <td>283</td>\n",
              "      <td>21.059794</td>\n",
              "      <td>34500</td>\n",
              "      <td>12.5</td>\n",
              "      <td>1</td>\n",
              "      <td>1</td>\n",
              "      <td>0</td>\n",
              "      <td>0.000000</td>\n",
              "      <td>...</td>\n",
              "      <td>0</td>\n",
              "      <td>1</td>\n",
              "      <td>0</td>\n",
              "      <td>1</td>\n",
              "      <td>0</td>\n",
              "      <td>0</td>\n",
              "      <td>0</td>\n",
              "      <td>1</td>\n",
              "      <td>0</td>\n",
              "      <td>0.657143</td>\n",
              "    </tr>\n",
              "    <tr>\n",
              "      <th>302772544</th>\n",
              "      <td>105000.00</td>\n",
              "      <td>25</td>\n",
              "      <td>173</td>\n",
              "      <td>25.866667</td>\n",
              "      <td>34500</td>\n",
              "      <td>12.5</td>\n",
              "      <td>1</td>\n",
              "      <td>1</td>\n",
              "      <td>0</td>\n",
              "      <td>0.000000</td>\n",
              "      <td>...</td>\n",
              "      <td>1</td>\n",
              "      <td>0</td>\n",
              "      <td>0</td>\n",
              "      <td>0</td>\n",
              "      <td>0</td>\n",
              "      <td>1</td>\n",
              "      <td>0</td>\n",
              "      <td>1</td>\n",
              "      <td>0</td>\n",
              "      <td>0.328571</td>\n",
              "    </tr>\n",
              "    <tr>\n",
              "      <th>302826650</th>\n",
              "      <td>35000.00</td>\n",
              "      <td>25</td>\n",
              "      <td>332</td>\n",
              "      <td>51.769231</td>\n",
              "      <td>34500</td>\n",
              "      <td>12.5</td>\n",
              "      <td>1</td>\n",
              "      <td>1</td>\n",
              "      <td>1</td>\n",
              "      <td>0.000000</td>\n",
              "      <td>...</td>\n",
              "      <td>0</td>\n",
              "      <td>1</td>\n",
              "      <td>0</td>\n",
              "      <td>0</td>\n",
              "      <td>0</td>\n",
              "      <td>1</td>\n",
              "      <td>0</td>\n",
              "      <td>1</td>\n",
              "      <td>0</td>\n",
              "      <td>0.985714</td>\n",
              "    </tr>\n",
              "    <tr>\n",
              "      <th>302821787</th>\n",
              "      <td>87500.00</td>\n",
              "      <td>25</td>\n",
              "      <td>140</td>\n",
              "      <td>2.888889</td>\n",
              "      <td>34500</td>\n",
              "      <td>12.5</td>\n",
              "      <td>1</td>\n",
              "      <td>1</td>\n",
              "      <td>0</td>\n",
              "      <td>0.000000</td>\n",
              "      <td>...</td>\n",
              "      <td>1</td>\n",
              "      <td>0</td>\n",
              "      <td>0</td>\n",
              "      <td>0</td>\n",
              "      <td>0</td>\n",
              "      <td>1</td>\n",
              "      <td>0</td>\n",
              "      <td>1</td>\n",
              "      <td>0</td>\n",
              "      <td>0.394286</td>\n",
              "    </tr>\n",
              "    <tr>\n",
              "      <th>302806433</th>\n",
              "      <td>140000.00</td>\n",
              "      <td>28</td>\n",
              "      <td>377</td>\n",
              "      <td>222.000000</td>\n",
              "      <td>34500</td>\n",
              "      <td>12.5</td>\n",
              "      <td>1</td>\n",
              "      <td>1</td>\n",
              "      <td>0</td>\n",
              "      <td>0.000000</td>\n",
              "      <td>...</td>\n",
              "      <td>0</td>\n",
              "      <td>1</td>\n",
              "      <td>0</td>\n",
              "      <td>0</td>\n",
              "      <td>0</td>\n",
              "      <td>1</td>\n",
              "      <td>0</td>\n",
              "      <td>1</td>\n",
              "      <td>0</td>\n",
              "      <td>0.246429</td>\n",
              "    </tr>\n",
              "    <tr>\n",
              "      <th>302354353635</th>\n",
              "      <td>17500.00</td>\n",
              "      <td>24</td>\n",
              "      <td>966</td>\n",
              "      <td>67.777778</td>\n",
              "      <td>34500</td>\n",
              "      <td>12.5</td>\n",
              "      <td>1</td>\n",
              "      <td>1</td>\n",
              "      <td>0</td>\n",
              "      <td>0.000000</td>\n",
              "      <td>...</td>\n",
              "      <td>0</td>\n",
              "      <td>1</td>\n",
              "      <td>0</td>\n",
              "      <td>0</td>\n",
              "      <td>0</td>\n",
              "      <td>1</td>\n",
              "      <td>0</td>\n",
              "      <td>1</td>\n",
              "      <td>0</td>\n",
              "      <td>1.971429</td>\n",
              "    </tr>\n",
              "    <tr>\n",
              "      <th>302941862</th>\n",
              "      <td>70000.00</td>\n",
              "      <td>30</td>\n",
              "      <td>330</td>\n",
              "      <td>86.333333</td>\n",
              "      <td>34500</td>\n",
              "      <td>12.5</td>\n",
              "      <td>1</td>\n",
              "      <td>1</td>\n",
              "      <td>1</td>\n",
              "      <td>0.000000</td>\n",
              "      <td>...</td>\n",
              "      <td>0</td>\n",
              "      <td>1</td>\n",
              "      <td>0</td>\n",
              "      <td>0</td>\n",
              "      <td>0</td>\n",
              "      <td>1</td>\n",
              "      <td>0</td>\n",
              "      <td>1</td>\n",
              "      <td>0</td>\n",
              "      <td>0.492857</td>\n",
              "    </tr>\n",
              "    <tr>\n",
              "      <th>302970371</th>\n",
              "      <td>35000.00</td>\n",
              "      <td>35</td>\n",
              "      <td>1942</td>\n",
              "      <td>29.732558</td>\n",
              "      <td>34500</td>\n",
              "      <td>12.5</td>\n",
              "      <td>0</td>\n",
              "      <td>1</td>\n",
              "      <td>0</td>\n",
              "      <td>0.000000</td>\n",
              "      <td>...</td>\n",
              "      <td>0</td>\n",
              "      <td>1</td>\n",
              "      <td>0</td>\n",
              "      <td>0</td>\n",
              "      <td>0</td>\n",
              "      <td>1</td>\n",
              "      <td>0</td>\n",
              "      <td>1</td>\n",
              "      <td>0</td>\n",
              "      <td>0.985714</td>\n",
              "    </tr>\n",
              "    <tr>\n",
              "      <th>301937986111</th>\n",
              "      <td>35000.00</td>\n",
              "      <td>35</td>\n",
              "      <td>33</td>\n",
              "      <td>6.636364</td>\n",
              "      <td>34500</td>\n",
              "      <td>12.5</td>\n",
              "      <td>1</td>\n",
              "      <td>1</td>\n",
              "      <td>0</td>\n",
              "      <td>0.000000</td>\n",
              "      <td>...</td>\n",
              "      <td>1</td>\n",
              "      <td>0</td>\n",
              "      <td>0</td>\n",
              "      <td>1</td>\n",
              "      <td>0</td>\n",
              "      <td>0</td>\n",
              "      <td>0</td>\n",
              "      <td>1</td>\n",
              "      <td>0</td>\n",
              "      <td>0.985714</td>\n",
              "    </tr>\n",
              "    <tr>\n",
              "      <th>302258006286</th>\n",
              "      <td>25000.00</td>\n",
              "      <td>33</td>\n",
              "      <td>395</td>\n",
              "      <td>23.480539</td>\n",
              "      <td>34500</td>\n",
              "      <td>12.5</td>\n",
              "      <td>1</td>\n",
              "      <td>1</td>\n",
              "      <td>0</td>\n",
              "      <td>0.000000</td>\n",
              "      <td>...</td>\n",
              "      <td>1</td>\n",
              "      <td>0</td>\n",
              "      <td>0</td>\n",
              "      <td>1</td>\n",
              "      <td>0</td>\n",
              "      <td>0</td>\n",
              "      <td>0</td>\n",
              "      <td>1</td>\n",
              "      <td>0</td>\n",
              "      <td>1.380000</td>\n",
              "    </tr>\n",
              "    <tr>\n",
              "      <th>301780694325</th>\n",
              "      <td>105000.00</td>\n",
              "      <td>29</td>\n",
              "      <td>1425</td>\n",
              "      <td>0.412798</td>\n",
              "      <td>34500</td>\n",
              "      <td>12.5</td>\n",
              "      <td>1</td>\n",
              "      <td>1</td>\n",
              "      <td>0</td>\n",
              "      <td>0.000000</td>\n",
              "      <td>...</td>\n",
              "      <td>0</td>\n",
              "      <td>1</td>\n",
              "      <td>0</td>\n",
              "      <td>0</td>\n",
              "      <td>0</td>\n",
              "      <td>1</td>\n",
              "      <td>0</td>\n",
              "      <td>1</td>\n",
              "      <td>0</td>\n",
              "      <td>0.328571</td>\n",
              "    </tr>\n",
              "    <tr>\n",
              "      <th>302962977</th>\n",
              "      <td>17500.00</td>\n",
              "      <td>48</td>\n",
              "      <td>947</td>\n",
              "      <td>65.567010</td>\n",
              "      <td>34500</td>\n",
              "      <td>12.5</td>\n",
              "      <td>1</td>\n",
              "      <td>1</td>\n",
              "      <td>0</td>\n",
              "      <td>0.000000</td>\n",
              "      <td>...</td>\n",
              "      <td>1</td>\n",
              "      <td>0</td>\n",
              "      <td>0</td>\n",
              "      <td>1</td>\n",
              "      <td>0</td>\n",
              "      <td>0</td>\n",
              "      <td>0</td>\n",
              "      <td>1</td>\n",
              "      <td>0</td>\n",
              "      <td>1.971429</td>\n",
              "    </tr>\n",
              "    <tr>\n",
              "      <th>302343148617</th>\n",
              "      <td>60381.90</td>\n",
              "      <td>29</td>\n",
              "      <td>255</td>\n",
              "      <td>37.000000</td>\n",
              "      <td>34500</td>\n",
              "      <td>12.5</td>\n",
              "      <td>1</td>\n",
              "      <td>1</td>\n",
              "      <td>1</td>\n",
              "      <td>0.000000</td>\n",
              "      <td>...</td>\n",
              "      <td>0</td>\n",
              "      <td>1</td>\n",
              "      <td>0</td>\n",
              "      <td>1</td>\n",
              "      <td>0</td>\n",
              "      <td>0</td>\n",
              "      <td>0</td>\n",
              "      <td>1</td>\n",
              "      <td>0</td>\n",
              "      <td>0.571363</td>\n",
              "    </tr>\n",
              "    <tr>\n",
              "      <th>303028199</th>\n",
              "      <td>17500.00</td>\n",
              "      <td>51</td>\n",
              "      <td>497</td>\n",
              "      <td>1.534247</td>\n",
              "      <td>34500</td>\n",
              "      <td>12.5</td>\n",
              "      <td>1</td>\n",
              "      <td>1</td>\n",
              "      <td>1</td>\n",
              "      <td>0.000000</td>\n",
              "      <td>...</td>\n",
              "      <td>1</td>\n",
              "      <td>0</td>\n",
              "      <td>0</td>\n",
              "      <td>1</td>\n",
              "      <td>0</td>\n",
              "      <td>0</td>\n",
              "      <td>0</td>\n",
              "      <td>1</td>\n",
              "      <td>0</td>\n",
              "      <td>1.971429</td>\n",
              "    </tr>\n",
              "    <tr>\n",
              "      <th>303136335</th>\n",
              "      <td>70000.00</td>\n",
              "      <td>29</td>\n",
              "      <td>532</td>\n",
              "      <td>7.000000</td>\n",
              "      <td>34500</td>\n",
              "      <td>12.5</td>\n",
              "      <td>1</td>\n",
              "      <td>1</td>\n",
              "      <td>1</td>\n",
              "      <td>0.000000</td>\n",
              "      <td>...</td>\n",
              "      <td>0</td>\n",
              "      <td>1</td>\n",
              "      <td>0</td>\n",
              "      <td>1</td>\n",
              "      <td>0</td>\n",
              "      <td>0</td>\n",
              "      <td>0</td>\n",
              "      <td>1</td>\n",
              "      <td>0</td>\n",
              "      <td>0.492857</td>\n",
              "    </tr>\n",
              "    <tr>\n",
              "      <th>302979941</th>\n",
              "      <td>17500.00</td>\n",
              "      <td>30</td>\n",
              "      <td>1246</td>\n",
              "      <td>89.500000</td>\n",
              "      <td>34500</td>\n",
              "      <td>12.5</td>\n",
              "      <td>1</td>\n",
              "      <td>1</td>\n",
              "      <td>0</td>\n",
              "      <td>0.000000</td>\n",
              "      <td>...</td>\n",
              "      <td>0</td>\n",
              "      <td>1</td>\n",
              "      <td>0</td>\n",
              "      <td>0</td>\n",
              "      <td>0</td>\n",
              "      <td>1</td>\n",
              "      <td>0</td>\n",
              "      <td>1</td>\n",
              "      <td>0</td>\n",
              "      <td>1.971429</td>\n",
              "    </tr>\n",
              "    <tr>\n",
              "      <th>302975682</th>\n",
              "      <td>122500.00</td>\n",
              "      <td>42</td>\n",
              "      <td>361</td>\n",
              "      <td>0.000000</td>\n",
              "      <td>34500</td>\n",
              "      <td>12.5</td>\n",
              "      <td>1</td>\n",
              "      <td>1</td>\n",
              "      <td>0</td>\n",
              "      <td>0.000000</td>\n",
              "      <td>...</td>\n",
              "      <td>0</td>\n",
              "      <td>1</td>\n",
              "      <td>0</td>\n",
              "      <td>1</td>\n",
              "      <td>0</td>\n",
              "      <td>0</td>\n",
              "      <td>0</td>\n",
              "      <td>1</td>\n",
              "      <td>0</td>\n",
              "      <td>0.281633</td>\n",
              "    </tr>\n",
              "    <tr>\n",
              "      <th>302190216584</th>\n",
              "      <td>70000.00</td>\n",
              "      <td>32</td>\n",
              "      <td>9</td>\n",
              "      <td>36.000000</td>\n",
              "      <td>34500</td>\n",
              "      <td>12.5</td>\n",
              "      <td>1</td>\n",
              "      <td>1</td>\n",
              "      <td>0</td>\n",
              "      <td>0.000000</td>\n",
              "      <td>...</td>\n",
              "      <td>0</td>\n",
              "      <td>1</td>\n",
              "      <td>0</td>\n",
              "      <td>0</td>\n",
              "      <td>0</td>\n",
              "      <td>1</td>\n",
              "      <td>0</td>\n",
              "      <td>1</td>\n",
              "      <td>0</td>\n",
              "      <td>0.492857</td>\n",
              "    </tr>\n",
              "    <tr>\n",
              "      <th>302875751</th>\n",
              "      <td>35000.00</td>\n",
              "      <td>39</td>\n",
              "      <td>4977</td>\n",
              "      <td>26.122807</td>\n",
              "      <td>34500</td>\n",
              "      <td>12.5</td>\n",
              "      <td>1</td>\n",
              "      <td>1</td>\n",
              "      <td>0</td>\n",
              "      <td>0.000000</td>\n",
              "      <td>...</td>\n",
              "      <td>0</td>\n",
              "      <td>1</td>\n",
              "      <td>0</td>\n",
              "      <td>1</td>\n",
              "      <td>0</td>\n",
              "      <td>0</td>\n",
              "      <td>0</td>\n",
              "      <td>1</td>\n",
              "      <td>0</td>\n",
              "      <td>0.985714</td>\n",
              "    </tr>\n",
              "    <tr>\n",
              "      <th>302416997222</th>\n",
              "      <td>35000.00</td>\n",
              "      <td>33</td>\n",
              "      <td>849</td>\n",
              "      <td>67.283133</td>\n",
              "      <td>34500</td>\n",
              "      <td>12.5</td>\n",
              "      <td>1</td>\n",
              "      <td>1</td>\n",
              "      <td>0</td>\n",
              "      <td>0.000000</td>\n",
              "      <td>...</td>\n",
              "      <td>0</td>\n",
              "      <td>1</td>\n",
              "      <td>0</td>\n",
              "      <td>1</td>\n",
              "      <td>0</td>\n",
              "      <td>0</td>\n",
              "      <td>0</td>\n",
              "      <td>1</td>\n",
              "      <td>0</td>\n",
              "      <td>0.985714</td>\n",
              "    </tr>\n",
              "    <tr>\n",
              "      <th>302171863746</th>\n",
              "      <td>35000.00</td>\n",
              "      <td>28</td>\n",
              "      <td>675</td>\n",
              "      <td>45.208038</td>\n",
              "      <td>34500</td>\n",
              "      <td>12.5</td>\n",
              "      <td>1</td>\n",
              "      <td>1</td>\n",
              "      <td>0</td>\n",
              "      <td>0.000000</td>\n",
              "      <td>...</td>\n",
              "      <td>1</td>\n",
              "      <td>0</td>\n",
              "      <td>0</td>\n",
              "      <td>0</td>\n",
              "      <td>0</td>\n",
              "      <td>1</td>\n",
              "      <td>0</td>\n",
              "      <td>1</td>\n",
              "      <td>0</td>\n",
              "      <td>0.985714</td>\n",
              "    </tr>\n",
              "    <tr>\n",
              "      <th>303104386</th>\n",
              "      <td>52007.04</td>\n",
              "      <td>33</td>\n",
              "      <td>2188</td>\n",
              "      <td>21.732323</td>\n",
              "      <td>34500</td>\n",
              "      <td>12.5</td>\n",
              "      <td>1</td>\n",
              "      <td>1</td>\n",
              "      <td>0</td>\n",
              "      <td>0.000000</td>\n",
              "      <td>...</td>\n",
              "      <td>0</td>\n",
              "      <td>1</td>\n",
              "      <td>0</td>\n",
              "      <td>0</td>\n",
              "      <td>0</td>\n",
              "      <td>1</td>\n",
              "      <td>0</td>\n",
              "      <td>1</td>\n",
              "      <td>0</td>\n",
              "      <td>0.663372</td>\n",
              "    </tr>\n",
              "    <tr>\n",
              "      <th>302307005226</th>\n",
              "      <td>70000.00</td>\n",
              "      <td>30</td>\n",
              "      <td>133</td>\n",
              "      <td>1.000000</td>\n",
              "      <td>34500</td>\n",
              "      <td>12.5</td>\n",
              "      <td>1</td>\n",
              "      <td>1</td>\n",
              "      <td>0</td>\n",
              "      <td>0.000000</td>\n",
              "      <td>...</td>\n",
              "      <td>1</td>\n",
              "      <td>0</td>\n",
              "      <td>0</td>\n",
              "      <td>0</td>\n",
              "      <td>0</td>\n",
              "      <td>1</td>\n",
              "      <td>0</td>\n",
              "      <td>1</td>\n",
              "      <td>0</td>\n",
              "      <td>0.492857</td>\n",
              "    </tr>\n",
              "    <tr>\n",
              "      <th>302305363517</th>\n",
              "      <td>35000.00</td>\n",
              "      <td>33</td>\n",
              "      <td>156</td>\n",
              "      <td>56.333333</td>\n",
              "      <td>34500</td>\n",
              "      <td>12.5</td>\n",
              "      <td>1</td>\n",
              "      <td>1</td>\n",
              "      <td>0</td>\n",
              "      <td>0.000000</td>\n",
              "      <td>...</td>\n",
              "      <td>0</td>\n",
              "      <td>1</td>\n",
              "      <td>0</td>\n",
              "      <td>1</td>\n",
              "      <td>0</td>\n",
              "      <td>0</td>\n",
              "      <td>0</td>\n",
              "      <td>1</td>\n",
              "      <td>0</td>\n",
              "      <td>0.985714</td>\n",
              "    </tr>\n",
              "    <tr>\n",
              "      <th>303179811</th>\n",
              "      <td>50000.00</td>\n",
              "      <td>37</td>\n",
              "      <td>2507</td>\n",
              "      <td>25.784530</td>\n",
              "      <td>34500</td>\n",
              "      <td>12.5</td>\n",
              "      <td>1</td>\n",
              "      <td>1</td>\n",
              "      <td>0</td>\n",
              "      <td>0.000000</td>\n",
              "      <td>...</td>\n",
              "      <td>0</td>\n",
              "      <td>1</td>\n",
              "      <td>0</td>\n",
              "      <td>1</td>\n",
              "      <td>0</td>\n",
              "      <td>0</td>\n",
              "      <td>0</td>\n",
              "      <td>1</td>\n",
              "      <td>0</td>\n",
              "      <td>0.690000</td>\n",
              "    </tr>\n",
              "    <tr>\n",
              "      <th>302711342</th>\n",
              "      <td>17500.00</td>\n",
              "      <td>25</td>\n",
              "      <td>1338</td>\n",
              "      <td>119.578740</td>\n",
              "      <td>34500</td>\n",
              "      <td>12.5</td>\n",
              "      <td>1</td>\n",
              "      <td>1</td>\n",
              "      <td>0</td>\n",
              "      <td>0.000000</td>\n",
              "      <td>...</td>\n",
              "      <td>1</td>\n",
              "      <td>0</td>\n",
              "      <td>0</td>\n",
              "      <td>0</td>\n",
              "      <td>0</td>\n",
              "      <td>1</td>\n",
              "      <td>0</td>\n",
              "      <td>1</td>\n",
              "      <td>0</td>\n",
              "      <td>1.971429</td>\n",
              "    </tr>\n",
              "  </tbody>\n",
              "</table>\n",
              "<p>139735 rows × 143 columns</p>\n",
              "</div>"
            ],
            "text/plain": [
              "              clientIncome  clientAge  clientNumberPhoneContacts  \\\n",
              "loanId                                                             \n",
              "302867672         58763.82         29                       3131   \n",
              "302178646371      35000.00         45                        722   \n",
              "302832638        105000.00         34                       1159   \n",
              "302664395        192500.00         28                        571   \n",
              "302388360535      52500.00         29                        207   \n",
              "302789501         60000.00         35                        270   \n",
              "303161580        103133.77         31                        473   \n",
              "301872918670     100000.00         36                       1289   \n",
              "301876312275      35000.00         28                        253   \n",
              "301965181877     105000.00         35                        380   \n",
              "302967784         75000.00         27                       1130   \n",
              "301935002451     125000.00         31                       2207   \n",
              "302885675         50000.00         34                        409   \n",
              "301954853671      70000.00         47                        816   \n",
              "302614400         90066.46         34                       2469   \n",
              "301728380656     100000.00         29                       1483   \n",
              "303053235        100000.00         44                       2785   \n",
              "301860410618      94000.00         43                       1260   \n",
              "302750679         17500.00         27                         50   \n",
              "301803568089     140000.00         40                       2136   \n",
              "302735997         70000.00         30                       3320   \n",
              "302105149361     150000.00         43                        317   \n",
              "302989914         71694.85         35                       1095   \n",
              "PP1726476070      51858.91         25                        434   \n",
              "302312070851      17500.00         26                        276   \n",
              "301940962311      10000.00         32                       1771   \n",
              "301783343070     105000.00         30                       1283   \n",
              "303082911         59095.00         27                       2217   \n",
              "303077030         17500.00         24                       1920   \n",
              "302774495         20000.00         28                       2100   \n",
              "...                    ...        ...                        ...   \n",
              "302729076         70000.00         40                       3710   \n",
              "302880424         35000.00         27                        358   \n",
              "302449419214      52500.00         28                        470   \n",
              "302781333         35000.00         44                        130   \n",
              "302153741101      52500.00         32                        283   \n",
              "302772544        105000.00         25                        173   \n",
              "302826650         35000.00         25                        332   \n",
              "302821787         87500.00         25                        140   \n",
              "302806433        140000.00         28                        377   \n",
              "302354353635      17500.00         24                        966   \n",
              "302941862         70000.00         30                        330   \n",
              "302970371         35000.00         35                       1942   \n",
              "301937986111      35000.00         35                         33   \n",
              "302258006286      25000.00         33                        395   \n",
              "301780694325     105000.00         29                       1425   \n",
              "302962977         17500.00         48                        947   \n",
              "302343148617      60381.90         29                        255   \n",
              "303028199         17500.00         51                        497   \n",
              "303136335         70000.00         29                        532   \n",
              "302979941         17500.00         30                       1246   \n",
              "302975682        122500.00         42                        361   \n",
              "302190216584      70000.00         32                          9   \n",
              "302875751         35000.00         39                       4977   \n",
              "302416997222      35000.00         33                        849   \n",
              "302171863746      35000.00         28                        675   \n",
              "303104386         52007.04         33                       2188   \n",
              "302307005226      70000.00         30                        133   \n",
              "302305363517      35000.00         33                        156   \n",
              "303179811         50000.00         37                       2507   \n",
              "302711342         17500.00         25                       1338   \n",
              "\n",
              "              clientAvgCallsPerDay  loanAmount  interestRate  \\\n",
              "loanId                                                         \n",
              "302867672                83.900000       48000           7.5   \n",
              "302178646371              8.000000       43000          10.0   \n",
              "302832638                45.560345       31500          12.5   \n",
              "302664395                 6.659686       31500          12.5   \n",
              "302388360535             16.000000       43000          10.0   \n",
              "302789501                11.402273       44500           5.0   \n",
              "303161580                91.333333       70000           7.5   \n",
              "301872918670             95.487500       70000           7.5   \n",
              "301876312275             55.000000       73500           7.5   \n",
              "301965181877             11.544693       91000           5.0   \n",
              "302967784               212.721805       28000          12.5   \n",
              "301935002451            217.995485       98000           5.0   \n",
              "302885675                11.837472       58000           5.0   \n",
              "301954853671             25.372928       81000           5.0   \n",
              "302614400               109.006369       34000          12.5   \n",
              "301728380656            216.137255      120000           7.5   \n",
              "303053235               185.666667      119500           7.5   \n",
              "301860410618            116.991597       92000           5.0   \n",
              "302750679                 9.000000       11000          20.0   \n",
              "301803568089             18.928416       21500          12.5   \n",
              "302735997                49.623529       56500           7.5   \n",
              "302105149361            136.836364       56500          12.5   \n",
              "302989914                19.338583       31000          12.5   \n",
              "PP1726476070             55.884354       26000           6.0   \n",
              "302312070851             33.306075       12500          15.0   \n",
              "301940962311              0.664062       82500           5.0   \n",
              "301783343070              1.247604       22500          15.0   \n",
              "303082911               177.516892       31500          10.0   \n",
              "303077030               159.134969       16000          10.0   \n",
              "302774495                23.161538       35000          12.5   \n",
              "...                            ...         ...           ...   \n",
              "302729076               246.672131       34500          12.5   \n",
              "302880424                29.888889       34500          12.5   \n",
              "302449419214             12.959578       34500          12.5   \n",
              "302781333                 2.200000       34500          12.5   \n",
              "302153741101             21.059794       34500          12.5   \n",
              "302772544                25.866667       34500          12.5   \n",
              "302826650                51.769231       34500          12.5   \n",
              "302821787                 2.888889       34500          12.5   \n",
              "302806433               222.000000       34500          12.5   \n",
              "302354353635             67.777778       34500          12.5   \n",
              "302941862                86.333333       34500          12.5   \n",
              "302970371                29.732558       34500          12.5   \n",
              "301937986111              6.636364       34500          12.5   \n",
              "302258006286             23.480539       34500          12.5   \n",
              "301780694325              0.412798       34500          12.5   \n",
              "302962977                65.567010       34500          12.5   \n",
              "302343148617             37.000000       34500          12.5   \n",
              "303028199                 1.534247       34500          12.5   \n",
              "303136335                 7.000000       34500          12.5   \n",
              "302979941                89.500000       34500          12.5   \n",
              "302975682                 0.000000       34500          12.5   \n",
              "302190216584             36.000000       34500          12.5   \n",
              "302875751                26.122807       34500          12.5   \n",
              "302416997222             67.283133       34500          12.5   \n",
              "302171863746             45.208038       34500          12.5   \n",
              "303104386                21.732323       34500          12.5   \n",
              "302307005226              1.000000       34500          12.5   \n",
              "302305363517             56.333333       34500          12.5   \n",
              "303179811                25.784530       34500          12.5   \n",
              "302711342               119.578740       34500          12.5   \n",
              "\n",
              "              max_amount_taken  max_tenor_taken  firstPaymentDefault  \\\n",
              "loanId                                                                 \n",
              "302867672                    0                1                    1   \n",
              "302178646371                 0                0                    0   \n",
              "302832638                    1                1                    0   \n",
              "302664395                    1                1                    1   \n",
              "302388360535                 0                0                    0   \n",
              "302789501                    0                1                    0   \n",
              "303161580                    1                1                    0   \n",
              "301872918670                 0                1                    0   \n",
              "301876312275                 0                1                    1   \n",
              "301965181877                 1                1                    1   \n",
              "302967784                    1                1                    0   \n",
              "301935002451                 0                1                    1   \n",
              "302885675                    1                1                    0   \n",
              "301954853671                 1                1                    0   \n",
              "302614400                    1                1                    0   \n",
              "301728380656                 1                1                    0   \n",
              "303053235                    0                1                    0   \n",
              "301860410618                 0                1                    0   \n",
              "302750679                    0                1                    0   \n",
              "301803568089                 1                1                    1   \n",
              "302735997                    1                1                    0   \n",
              "302105149361                 1                1                    1   \n",
              "302989914                    0                1                    1   \n",
              "PP1726476070                 0                1                    0   \n",
              "302312070851                 0                0                    0   \n",
              "301940962311                 1                1                    1   \n",
              "301783343070                 1                1                    1   \n",
              "303082911                    0                0                    1   \n",
              "303077030                    0                1                    1   \n",
              "302774495                    0                1                    0   \n",
              "...                        ...              ...                  ...   \n",
              "302729076                    1                1                    0   \n",
              "302880424                    1                1                    0   \n",
              "302449419214                 1                1                    1   \n",
              "302781333                    1                1                    1   \n",
              "302153741101                 1                1                    0   \n",
              "302772544                    1                1                    0   \n",
              "302826650                    1                1                    1   \n",
              "302821787                    1                1                    0   \n",
              "302806433                    1                1                    0   \n",
              "302354353635                 1                1                    0   \n",
              "302941862                    1                1                    1   \n",
              "302970371                    0                1                    0   \n",
              "301937986111                 1                1                    0   \n",
              "302258006286                 1                1                    0   \n",
              "301780694325                 1                1                    0   \n",
              "302962977                    1                1                    0   \n",
              "302343148617                 1                1                    1   \n",
              "303028199                    1                1                    1   \n",
              "303136335                    1                1                    1   \n",
              "302979941                    1                1                    0   \n",
              "302975682                    1                1                    0   \n",
              "302190216584                 1                1                    0   \n",
              "302875751                    1                1                    0   \n",
              "302416997222                 1                1                    0   \n",
              "302171863746                 1                1                    0   \n",
              "303104386                    1                1                    0   \n",
              "302307005226                 1                1                    0   \n",
              "302305363517                 1                1                    0   \n",
              "303179811                    1                1                    0   \n",
              "302711342                    1                1                    0   \n",
              "\n",
              "              firstPaymentRatio       ...         clientGender_FEMALE  \\\n",
              "loanId                                ...                               \n",
              "302867672              0.000000       ...                           1   \n",
              "302178646371           0.000000       ...                           1   \n",
              "302832638              0.000000       ...                           0   \n",
              "302664395              1.000000       ...                           0   \n",
              "302388360535           0.000000       ...                           1   \n",
              "302789501              0.000000       ...                           1   \n",
              "303161580              0.000000       ...                           0   \n",
              "301872918670           0.000000       ...                           0   \n",
              "301876312275           0.000000       ...                           1   \n",
              "301965181877           1.000000       ...                           1   \n",
              "302967784              0.000000       ...                           0   \n",
              "301935002451           0.976452       ...                           0   \n",
              "302885675              0.000000       ...                           0   \n",
              "301954853671           0.000000       ...                           0   \n",
              "302614400              0.000000       ...                           0   \n",
              "301728380656           0.000000       ...                           0   \n",
              "303053235              0.000000       ...                           0   \n",
              "301860410618           0.000000       ...                           0   \n",
              "302750679              0.000000       ...                           1   \n",
              "301803568089           0.000000       ...                           1   \n",
              "302735997              0.000000       ...                           1   \n",
              "302105149361           0.980692       ...                           0   \n",
              "302989914              0.587427       ...                           0   \n",
              "PP1726476070           0.000000       ...                           0   \n",
              "302312070851           0.000000       ...                           1   \n",
              "301940962311           0.000000       ...                           1   \n",
              "301783343070           0.000000       ...                           0   \n",
              "303082911              1.000000       ...                           0   \n",
              "303077030              0.000000       ...                           1   \n",
              "302774495              0.000000       ...                           1   \n",
              "...                         ...       ...                         ...   \n",
              "302729076              0.000000       ...                           1   \n",
              "302880424              0.000000       ...                           1   \n",
              "302449419214           0.000000       ...                           0   \n",
              "302781333              0.000000       ...                           0   \n",
              "302153741101           0.000000       ...                           0   \n",
              "302772544              0.000000       ...                           1   \n",
              "302826650              0.000000       ...                           0   \n",
              "302821787              0.000000       ...                           1   \n",
              "302806433              0.000000       ...                           0   \n",
              "302354353635           0.000000       ...                           0   \n",
              "302941862              0.000000       ...                           0   \n",
              "302970371              0.000000       ...                           0   \n",
              "301937986111           0.000000       ...                           1   \n",
              "302258006286           0.000000       ...                           1   \n",
              "301780694325           0.000000       ...                           0   \n",
              "302962977              0.000000       ...                           1   \n",
              "302343148617           0.000000       ...                           0   \n",
              "303028199              0.000000       ...                           1   \n",
              "303136335              0.000000       ...                           0   \n",
              "302979941              0.000000       ...                           0   \n",
              "302975682              0.000000       ...                           0   \n",
              "302190216584           0.000000       ...                           0   \n",
              "302875751              0.000000       ...                           0   \n",
              "302416997222           0.000000       ...                           0   \n",
              "302171863746           0.000000       ...                           1   \n",
              "303104386              0.000000       ...                           0   \n",
              "302307005226           0.000000       ...                           1   \n",
              "302305363517           0.000000       ...                           0   \n",
              "303179811              0.000000       ...                           0   \n",
              "302711342              0.000000       ...                           1   \n",
              "\n",
              "              clientGender_MALE  clientMaritalStatus_Divorced  \\\n",
              "loanId                                                          \n",
              "302867672                     0                             0   \n",
              "302178646371                  0                             0   \n",
              "302832638                     1                             0   \n",
              "302664395                     1                             0   \n",
              "302388360535                  0                             0   \n",
              "302789501                     0                             0   \n",
              "303161580                     1                             0   \n",
              "301872918670                  1                             0   \n",
              "301876312275                  0                             0   \n",
              "301965181877                  0                             0   \n",
              "302967784                     1                             0   \n",
              "301935002451                  1                             0   \n",
              "302885675                     1                             0   \n",
              "301954853671                  1                             0   \n",
              "302614400                     1                             0   \n",
              "301728380656                  1                             0   \n",
              "303053235                     1                             0   \n",
              "301860410618                  1                             0   \n",
              "302750679                     0                             0   \n",
              "301803568089                  0                             0   \n",
              "302735997                     0                             0   \n",
              "302105149361                  1                             0   \n",
              "302989914                     1                             0   \n",
              "PP1726476070                  1                             0   \n",
              "302312070851                  0                             0   \n",
              "301940962311                  0                             0   \n",
              "301783343070                  1                             0   \n",
              "303082911                     1                             0   \n",
              "303077030                     0                             0   \n",
              "302774495                     0                             0   \n",
              "...                         ...                           ...   \n",
              "302729076                     0                             0   \n",
              "302880424                     0                             0   \n",
              "302449419214                  1                             0   \n",
              "302781333                     1                             0   \n",
              "302153741101                  1                             0   \n",
              "302772544                     0                             0   \n",
              "302826650                     1                             0   \n",
              "302821787                     0                             0   \n",
              "302806433                     1                             0   \n",
              "302354353635                  1                             0   \n",
              "302941862                     1                             0   \n",
              "302970371                     1                             0   \n",
              "301937986111                  0                             0   \n",
              "302258006286                  0                             0   \n",
              "301780694325                  1                             0   \n",
              "302962977                     0                             0   \n",
              "302343148617                  1                             0   \n",
              "303028199                     0                             0   \n",
              "303136335                     1                             0   \n",
              "302979941                     1                             0   \n",
              "302975682                     1                             0   \n",
              "302190216584                  1                             0   \n",
              "302875751                     1                             0   \n",
              "302416997222                  1                             0   \n",
              "302171863746                  0                             0   \n",
              "303104386                     1                             0   \n",
              "302307005226                  0                             0   \n",
              "302305363517                  1                             0   \n",
              "303179811                     1                             0   \n",
              "302711342                     0                             0   \n",
              "\n",
              "              clientMaritalStatus_Married  clientMaritalStatus_Separated  \\\n",
              "loanId                                                                     \n",
              "302867672                               1                              0   \n",
              "302178646371                            1                              0   \n",
              "302832638                               1                              0   \n",
              "302664395                               0                              0   \n",
              "302388360535                            0                              0   \n",
              "302789501                               0                              0   \n",
              "303161580                               1                              0   \n",
              "301872918670                            1                              0   \n",
              "301876312275                            1                              0   \n",
              "301965181877                            1                              0   \n",
              "302967784                               0                              0   \n",
              "301935002451                            0                              0   \n",
              "302885675                               1                              0   \n",
              "301954853671                            1                              0   \n",
              "302614400                               1                              0   \n",
              "301728380656                            0                              0   \n",
              "303053235                               1                              0   \n",
              "301860410618                            1                              0   \n",
              "302750679                               0                              0   \n",
              "301803568089                            0                              0   \n",
              "302735997                               1                              0   \n",
              "302105149361                            1                              0   \n",
              "302989914                               1                              0   \n",
              "PP1726476070                            0                              0   \n",
              "302312070851                            0                              0   \n",
              "301940962311                            1                              0   \n",
              "301783343070                            0                              0   \n",
              "303082911                               0                              0   \n",
              "303077030                               0                              0   \n",
              "302774495                               0                              0   \n",
              "...                                   ...                            ...   \n",
              "302729076                               1                              0   \n",
              "302880424                               1                              0   \n",
              "302449419214                            0                              0   \n",
              "302781333                               1                              0   \n",
              "302153741101                            1                              0   \n",
              "302772544                               0                              0   \n",
              "302826650                               0                              0   \n",
              "302821787                               0                              0   \n",
              "302806433                               0                              0   \n",
              "302354353635                            0                              0   \n",
              "302941862                               0                              0   \n",
              "302970371                               0                              0   \n",
              "301937986111                            1                              0   \n",
              "302258006286                            1                              0   \n",
              "301780694325                            0                              0   \n",
              "302962977                               1                              0   \n",
              "302343148617                            1                              0   \n",
              "303028199                               1                              0   \n",
              "303136335                               1                              0   \n",
              "302979941                               0                              0   \n",
              "302975682                               1                              0   \n",
              "302190216584                            0                              0   \n",
              "302875751                               1                              0   \n",
              "302416997222                            1                              0   \n",
              "302171863746                            0                              0   \n",
              "303104386                               0                              0   \n",
              "302307005226                            0                              0   \n",
              "302305363517                            1                              0   \n",
              "303179811                               1                              0   \n",
              "302711342                               0                              0   \n",
              "\n",
              "              clientMaritalStatus_Single  clientMaritalStatus_Widowed  \\\n",
              "loanId                                                                  \n",
              "302867672                              0                            0   \n",
              "302178646371                           0                            0   \n",
              "302832638                              0                            0   \n",
              "302664395                              1                            0   \n",
              "302388360535                           1                            0   \n",
              "302789501                              1                            0   \n",
              "303161580                              0                            0   \n",
              "301872918670                           0                            0   \n",
              "301876312275                           0                            0   \n",
              "301965181877                           0                            0   \n",
              "302967784                              1                            0   \n",
              "301935002451                           1                            0   \n",
              "302885675                              0                            0   \n",
              "301954853671                           0                            0   \n",
              "302614400                              0                            0   \n",
              "301728380656                           1                            0   \n",
              "303053235                              0                            0   \n",
              "301860410618                           0                            0   \n",
              "302750679                              1                            0   \n",
              "301803568089                           1                            0   \n",
              "302735997                              0                            0   \n",
              "302105149361                           0                            0   \n",
              "302989914                              0                            0   \n",
              "PP1726476070                           1                            0   \n",
              "302312070851                           1                            0   \n",
              "301940962311                           0                            0   \n",
              "301783343070                           1                            0   \n",
              "303082911                              1                            0   \n",
              "303077030                              1                            0   \n",
              "302774495                              1                            0   \n",
              "...                                  ...                          ...   \n",
              "302729076                              0                            0   \n",
              "302880424                              0                            0   \n",
              "302449419214                           1                            0   \n",
              "302781333                              0                            0   \n",
              "302153741101                           0                            0   \n",
              "302772544                              1                            0   \n",
              "302826650                              1                            0   \n",
              "302821787                              1                            0   \n",
              "302806433                              1                            0   \n",
              "302354353635                           1                            0   \n",
              "302941862                              1                            0   \n",
              "302970371                              1                            0   \n",
              "301937986111                           0                            0   \n",
              "302258006286                           0                            0   \n",
              "301780694325                           1                            0   \n",
              "302962977                              0                            0   \n",
              "302343148617                           0                            0   \n",
              "303028199                              0                            0   \n",
              "303136335                              0                            0   \n",
              "302979941                              1                            0   \n",
              "302975682                              0                            0   \n",
              "302190216584                           1                            0   \n",
              "302875751                              0                            0   \n",
              "302416997222                           0                            0   \n",
              "302171863746                           1                            0   \n",
              "303104386                              1                            0   \n",
              "302307005226                           1                            0   \n",
              "302305363517                           0                            0   \n",
              "303179811                              0                            0   \n",
              "302711342                              1                            0   \n",
              "\n",
              "              incomeVerified_false  incomeVerified_true  ratioLoanIncome  \n",
              "loanId                                                                    \n",
              "302867672                        0                    1         0.816829  \n",
              "302178646371                     1                    0         1.228571  \n",
              "302832638                        1                    0         0.300000  \n",
              "302664395                        1                    0         0.163636  \n",
              "302388360535                     1                    0         0.819048  \n",
              "302789501                        0                    1         0.741667  \n",
              "303161580                        0                    1         0.678730  \n",
              "301872918670                     0                    1         0.700000  \n",
              "301876312275                     1                    0         2.100000  \n",
              "301965181877                     1                    0         0.866667  \n",
              "302967784                        0                    1         0.373333  \n",
              "301935002451                     0                    1         0.784000  \n",
              "302885675                        0                    1         1.160000  \n",
              "301954853671                     0                    1         1.157143  \n",
              "302614400                        0                    1         0.377499  \n",
              "301728380656                     0                    1         1.200000  \n",
              "303053235                        0                    1         1.195000  \n",
              "301860410618                     0                    1         0.978723  \n",
              "302750679                        1                    0         0.628571  \n",
              "301803568089                     1                    0         0.153571  \n",
              "302735997                        1                    0         0.807143  \n",
              "302105149361                     0                    1         0.376667  \n",
              "302989914                        0                    1         0.432388  \n",
              "PP1726476070                     0                    1         0.501360  \n",
              "302312070851                     1                    0         0.714286  \n",
              "301940962311                     1                    0         8.250000  \n",
              "301783343070                     1                    0         0.214286  \n",
              "303082911                        0                    1         0.533040  \n",
              "303077030                        1                    0         0.914286  \n",
              "302774495                        1                    0         1.750000  \n",
              "...                            ...                  ...              ...  \n",
              "302729076                        1                    0         0.492857  \n",
              "302880424                        1                    0         0.985714  \n",
              "302449419214                     1                    0         0.657143  \n",
              "302781333                        1                    0         0.985714  \n",
              "302153741101                     1                    0         0.657143  \n",
              "302772544                        1                    0         0.328571  \n",
              "302826650                        1                    0         0.985714  \n",
              "302821787                        1                    0         0.394286  \n",
              "302806433                        1                    0         0.246429  \n",
              "302354353635                     1                    0         1.971429  \n",
              "302941862                        1                    0         0.492857  \n",
              "302970371                        1                    0         0.985714  \n",
              "301937986111                     1                    0         0.985714  \n",
              "302258006286                     1                    0         1.380000  \n",
              "301780694325                     1                    0         0.328571  \n",
              "302962977                        1                    0         1.971429  \n",
              "302343148617                     1                    0         0.571363  \n",
              "303028199                        1                    0         1.971429  \n",
              "303136335                        1                    0         0.492857  \n",
              "302979941                        1                    0         1.971429  \n",
              "302975682                        1                    0         0.281633  \n",
              "302190216584                     1                    0         0.492857  \n",
              "302875751                        1                    0         0.985714  \n",
              "302416997222                     1                    0         0.985714  \n",
              "302171863746                     1                    0         0.985714  \n",
              "303104386                        1                    0         0.663372  \n",
              "302307005226                     1                    0         0.492857  \n",
              "302305363517                     1                    0         0.985714  \n",
              "303179811                        1                    0         0.690000  \n",
              "302711342                        1                    0         1.971429  \n",
              "\n",
              "[139735 rows x 143 columns]"
            ]
          },
          "metadata": {
            "tags": []
          },
          "execution_count": 31
        }
      ]
    },
    {
      "cell_type": "markdown",
      "metadata": {
        "id": "KSJLSPImgp6r",
        "colab_type": "text"
      },
      "source": [
        "####**Dataset Scaling of numeric parameters**"
      ]
    },
    {
      "cell_type": "code",
      "metadata": {
        "id": "pwnDmDyMgok-",
        "colab_type": "code",
        "outputId": "cfcf37bf-352b-45ce-e28e-feadd4b97f3e",
        "colab": {
          "base_uri": "https://localhost:8080/",
          "height": 139
        }
      },
      "source": [
        "for item in ['clientIncome','clientAge','clientNumberPhoneContacts','clientAvgCallsPerDay','loanAmount','ratioLoanIncome']:\n",
        "  df[item]=(scale(df[(item)]) )\n",
        " "
      ],
      "execution_count": 0,
      "outputs": [
        {
          "output_type": "stream",
          "text": [
            "/usr/local/lib/python3.6/dist-packages/sklearn/utils/validation.py:595: DataConversionWarning: Data with input dtype int64 was converted to float64 by the scale function.\n",
            "  warnings.warn(msg, DataConversionWarning)\n",
            "/usr/local/lib/python3.6/dist-packages/sklearn/utils/validation.py:595: DataConversionWarning: Data with input dtype int64 was converted to float64 by the scale function.\n",
            "  warnings.warn(msg, DataConversionWarning)\n",
            "/usr/local/lib/python3.6/dist-packages/sklearn/utils/validation.py:595: DataConversionWarning: Data with input dtype int64 was converted to float64 by the scale function.\n",
            "  warnings.warn(msg, DataConversionWarning)\n"
          ],
          "name": "stderr"
        }
      ]
    },
    {
      "cell_type": "code",
      "metadata": {
        "id": "PLh1BHhCxAbT",
        "colab_type": "code",
        "outputId": "4f9f89a2-e4c2-4611-9898-48106d7097ef",
        "colab": {
          "base_uri": "https://localhost:8080/",
          "height": 156
        }
      },
      "source": [
        "print(df.head().to_string())"
      ],
      "execution_count": 0,
      "outputs": [
        {
          "output_type": "stream",
          "text": [
            "              clientIncome  clientAge  clientNumberPhoneContacts  clientAvgCallsPerDay  loanAmount  interestRate  max_amount_taken  max_tenor_taken  firstPaymentDefault  firstPaymentRatio  loanDefault  loanTerm_180  loanTerm_60  loanTerm_90  loanNumber_1  loanNumber_10  loanNumber_11  loanNumber_12  loanNumber_13  loanNumber_14  loanNumber_15  loanNumber_16  loanNumber_17  loanNumber_18  loanNumber_19  loanNumber_2  loanNumber_20  loanNumber_21  loanNumber_22  loanNumber_23  loanNumber_24  loanNumber_25  loanNumber_26  loanNumber_27  loanNumber_28  loanNumber_29  loanNumber_3  loanNumber_30  loanNumber_31  loanNumber_32  loanNumber_4  loanNumber_5  loanNumber_6  loanNumber_7  loanNumber_8  loanNumber_9  clientTimeAtEmployer_-5  clientTimeAtEmployer_-6  clientTimeAtEmployer_-7  clientTimeAtEmployer_0  clientTimeAtEmployer_1  clientTimeAtEmployer_10  clientTimeAtEmployer_11  clientTimeAtEmployer_12  clientTimeAtEmployer_13  clientTimeAtEmployer_14  clientTimeAtEmployer_15  clientTimeAtEmployer_16  clientTimeAtEmployer_17  clientTimeAtEmployer_18  clientTimeAtEmployer_19  clientTimeAtEmployer_2  clientTimeAtEmployer_20  clientTimeAtEmployer_21  clientTimeAtEmployer_22  clientTimeAtEmployer_23  clientTimeAtEmployer_24  clientTimeAtEmployer_25  clientTimeAtEmployer_26  clientTimeAtEmployer_27  clientTimeAtEmployer_28  clientTimeAtEmployer_29  clientTimeAtEmployer_3  clientTimeAtEmployer_30  clientTimeAtEmployer_31  clientTimeAtEmployer_32  clientTimeAtEmployer_33  clientTimeAtEmployer_34  clientTimeAtEmployer_35  clientTimeAtEmployer_36+  clientTimeAtEmployer_4  clientTimeAtEmployer_5  clientTimeAtEmployer_6  clientTimeAtEmployer_7  clientTimeAtEmployer_8  clientTimeAtEmployer_9  clientState_ABIA  clientState_ABUJA  clientState_ADAMAWA  clientState_AKWA IBOM  clientState_ANAMBRA  clientState_BAUCHI  clientState_BAYELSA  clientState_BENUE  clientState_BORNO  clientState_CROSS RIVER  clientState_DELTA  clientState_EBONYI  clientState_EDO  clientState_EKITI  clientState_ENUGU  clientState_GOMBE  clientState_IMO  clientState_JIGAWA  clientState_KADUNA  clientState_KANO  clientState_KATSINA  clientState_KEBBI  clientState_KOGI  clientState_KWARA  clientState_LAGOS  clientState_NASARAWA  clientState_NIGER  clientState_OGUN  clientState_ONDO  clientState_OSUN  clientState_OYO  clientState_PLATEAU  clientState_RIVERS  clientState_SOKOTO  clientState_TARABA  clientState_YOBE  clientState_ZAMFARA  clientResidentialStauts_Employer Provided  clientResidentialStauts_Family Owned  clientResidentialStauts_Own Residence  clientResidentialStauts_Rented  clientResidentialStauts_Temp. Residence  clientLoanPurpose_business  clientLoanPurpose_education  clientLoanPurpose_house  clientLoanPurpose_medical  clientLoanPurpose_other  clientGender_FEMALE  clientGender_MALE  clientMaritalStatus_Divorced  clientMaritalStatus_Married  clientMaritalStatus_Separated  clientMaritalStatus_Single  clientMaritalStatus_Widowed  incomeVerified_false  incomeVerified_true  ratioLoanIncome\n",
            "loanId                                                                                                                                                                                                                                                                                                                                                                                                                                                                                                                                                                                                                                                                                                                                                                                                                                                                                                                                                                                                                                                                                                                                                                                                                                                                                                                                                                                                                                                                                                                                                                                                                                                                                                                                                                                                                                                                                                                                                                                                                                                                                                                                                                                                                                                                                                                                                                                                                                                                                                                                                                                                                                                                                                                                                                                                                                                                                                                                                                                                                                                                                                                \n",
            "302867672        -0.299371  -0.679274                   2.070284              0.640658    0.864415           7.5                 0                1                    1                0.0            0             1            0            0             0              0              0              0              0              0              0              0              0              0              0             0              0              0              0              0              0              0              0              0              0              0             0              0              0              0             0             0             1             0             0             0                        0                        0                        0                       0                       0                        0                        0                        0                        0                        0                        0                        0                        0                        0                        0                       0                        0                        1                        0                        0                        0                        0                        0                        0                        0                        0                       0                        0                        0                        0                        0                        0                        0                         0                       0                       0                       0                       0                       0                       0                 0                  0                    0                      0                    0                   0                    0                  0                  0                        0                  0                   0                0                  0                  0                  0                0                   0                   0                 0                    0                  0                 0                  0                  0                     0                  0                 0                 0                 1                0                    0                   0                   0                   0                 0                    0                                          0                                     0                                      0                               1                                        0                           1                            0                        0                          0                        0                    1                  0                             0                            1                              0                           0                            0                     0                    1         0.032618\n",
            "302178646371     -0.650890   1.642995                  -0.383698             -0.700948    0.588797          10.0                 0                0                    0                0.0            1             0            0            1             0              0              0              0              0              1              0              0              0              0              0             0              0              0              0              0              0              0              0              0              0              0             0              0              0              0             0             0             0             0             0             0                        0                        0                        0                       0                       0                        0                        0                        0                        0                        0                        0                        0                        0                        0                        0                       0                        0                        0                        0                        0                        0                        0                        0                        0                        0                        0                       0                        0                        0                        0                        0                        0                        0                         1                       0                       0                       0                       0                       0                       0                 0                  0                    0                      1                    0                   0                    0                  0                  0                        0                  0                   0                0                  0                  0                  0                0                   0                   0                 0                    0                  0                 0                  0                  0                     0                  0                 0                 0                 0                0                    0                   0                   0                   0                 0                    0                                          0                                     0                                      0                               1                                        0                           0                            0                        0                          1                        0                    1                  0                             0                            1                              0                           0                            0                     1                    0         0.159256\n",
            "302832638         0.384564   0.046435                   0.061462             -0.037033   -0.045123          12.5                 1                1                    0                0.0            0             0            0            1             0              0              0              0              0              0              0              0              0              0              0             0              0              0              0              0              0              0              0              0              0              0             0              0              0              0             0             1             0             0             0             0                        0                        0                        0                       0                       0                        0                        0                        0                        0                        0                        0                        0                        0                        1                        0                       0                        0                        0                        0                        0                        0                        0                        0                        0                        0                        0                       0                        0                        0                        0                        0                        0                        0                         0                       0                       0                       0                       0                       0                       0                 0                  0                    0                      0                    0                   0                    0                  0                  0                        0                  0                   0                0                  0                  0                  0                0                   0                   0                 0                    0                  0                 0                  0                  1                     0                  0                 0                 0                 0                0                    0                   0                   0                   0                 0                    0                                          0                                     0                                      1                               0                                        0                           1                            0                        0                          0                        0                    0                  1                             0                            1                              0                           0                            0                     1                    0        -0.126341\n",
            "302664395         1.678881  -0.824416                  -0.537518             -0.724640   -0.045123          12.5                 1                1                    1                1.0            1             0            0            1             0              0              0              0              0              0              0              0              0              0              0             0              0              0              0              0              0              0              0              0              0              0             0              0              0              0             1             0             0             0             0             0                        0                        0                        0                       1                       0                        0                        0                        0                        0                        0                        0                        0                        0                        0                        0                       0                        0                        0                        0                        0                        0                        0                        0                        0                        0                        0                       0                        0                        0                        0                        0                        0                        0                         0                       0                       0                       0                       0                       0                       0                 0                  0                    0                      0                    0                   0                    0                  0                  0                        0                  1                   0                0                  0                  0                  0                0                   0                   0                 0                    0                  0                 0                  0                  0                     0                  0                 0                 0                 0                0                    0                   0                   0                   0                 0                    0                                          0                                     0                                      0                               1                                        0                           0                            0                        1                          0                        0                    0                  1                             0                            0                              0                           1                            0                     1                    0        -0.168282\n",
            "302388360535     -0.392027  -0.679274                  -0.908315             -0.559540    0.588797          10.0                 0                0                    0                0.0            0             0            0            1             0              0              0              0              0              0              0              0              0              0              0             0              0              0              0              0              0              0              0              0              0              0             0              0              0              0             0             0             0             1             0             0                        0                        0                        0                       0                       0                        0                        0                        0                        0                        0                        0                        0                        0                        0                        0                       0                        0                        0                        0                        0                        0                        0                        0                        0                        0                        0                       0                        0                        0                        0                        0                        0                        0                         0                       0                       0                       0                       0                       0                       1                 0                  0                    0                      0                    0                   0                    0                  0                  0                        0                  0                   0                0                  0                  0                  0                0                   0                   0                 0                    0                  0                 0                  0                  0                     0                  0                 1                 0                 0                0                    0                   0                   0                   0                 0                    0                                          0                                     0                                      0                               1                                        0                           1                            0                        0                          0                        0                    1                  0                             0                            0                              0                           1                            0                     1                    0         0.033300\n"
          ],
          "name": "stdout"
        }
      ]
    },
    {
      "cell_type": "markdown",
      "metadata": {
        "id": "Jcc7re6sCBKm",
        "colab_type": "text"
      },
      "source": [
        "####**Splitting the Dataset**"
      ]
    },
    {
      "cell_type": "code",
      "metadata": {
        "id": "2yEB0YMOCJe1",
        "colab_type": "code",
        "colab": {}
      },
      "source": [
        "#This utlilises a 70-30 split\n",
        "X_train, X_test, y_train, y_test = tts( df.drop(['loanDefault'],inplace=False,axis=1), df['loanDefault'], test_size=0.3, random_state=42)"
      ],
      "execution_count": 0,
      "outputs": []
    },
    {
      "cell_type": "markdown",
      "metadata": {
        "id": "2EfmuUaJzso2",
        "colab_type": "text"
      },
      "source": [
        "####**Handling Imbalance**"
      ]
    },
    {
      "cell_type": "code",
      "metadata": {
        "id": "ZMo_rbPs2W7f",
        "colab_type": "code",
        "colab": {}
      },
      "source": [
        "#The smote technique is utilised here to handle imbalance of the dataset\n",
        "sm = SMOTE(random_state=27, ratio=1.0)\n",
        "X_train, y_train = sm.fit_sample(X_train, y_train)"
      ],
      "execution_count": 0,
      "outputs": []
    },
    {
      "cell_type": "code",
      "metadata": {
        "id": "Qakd_Sw83Jwo",
        "colab_type": "code",
        "outputId": "57030872-1b91-4f75-9396-8c2579275cfb",
        "colab": {
          "base_uri": "https://localhost:8080/",
          "height": 34
        }
      },
      "source": [
        "#This provides the shape of the newly created dataset\n",
        "X_train.shape"
      ],
      "execution_count": 0,
      "outputs": [
        {
          "output_type": "execute_result",
          "data": {
            "text/plain": [
              "(141488, 142)"
            ]
          },
          "metadata": {
            "tags": []
          },
          "execution_count": 61
        }
      ]
    },
    {
      "cell_type": "markdown",
      "metadata": {
        "id": "NPT0jpE_urUu",
        "colab_type": "text"
      },
      "source": [
        "####**Implementing the Random Forest Classifier**"
      ]
    },
    {
      "cell_type": "code",
      "metadata": {
        "id": "nXEfXDzyVvUd",
        "colab_type": "code",
        "colab": {}
      },
      "source": [
        "#Random Forest Classifier\n",
        "classifier = RandomForestClassifier(n_estimators=20, random_state=42)  \n",
        "classifier.fit(X_train, y_train)\n",
        "y_train_pred_rfc=classifier.predict(X_train)\n",
        "y_pred_rfc = classifier.predict(X_test) "
      ],
      "execution_count": 0,
      "outputs": []
    },
    {
      "cell_type": "code",
      "metadata": {
        "id": "mOgfGX-84ttX",
        "colab_type": "code",
        "outputId": "d0bcdc1c-603b-4913-fac1-c35c81727b58",
        "colab": {
          "base_uri": "https://localhost:8080/",
          "height": 2448
        }
      },
      "source": [
        "#This prints a table of the features and their importance as determined by the random forest classifier.\n",
        "print(pd.DataFrame(X_test.columns,classifier.feature_importances_).to_string())"
      ],
      "execution_count": 0,
      "outputs": [
        {
          "output_type": "stream",
          "text": [
            "                                                      0\n",
            "3.472548e-02                               clientIncome\n",
            "3.760011e-02                                  clientAge\n",
            "4.142752e-02                  clientNumberPhoneContacts\n",
            "4.131101e-02                       clientAvgCallsPerDay\n",
            "3.000648e-02                                 loanAmount\n",
            "1.357806e-02                               interestRate\n",
            "1.766261e-02                           max_amount_taken\n",
            "7.061476e-03                            max_tenor_taken\n",
            "2.423191e-01                        firstPaymentDefault\n",
            "2.082312e-01                          firstPaymentRatio\n",
            "2.531340e-03                               loanTerm_180\n",
            "5.461506e-03                                loanTerm_60\n",
            "4.040336e-03                                loanTerm_90\n",
            "2.311105e-03                               loanNumber_1\n",
            "6.453148e-04                              loanNumber_10\n",
            "4.171707e-04                              loanNumber_11\n",
            "2.048611e-04                              loanNumber_12\n",
            "2.990340e-04                              loanNumber_13\n",
            "2.120594e-04                              loanNumber_14\n",
            "1.613570e-04                              loanNumber_15\n",
            "1.136126e-04                              loanNumber_16\n",
            "1.079916e-04                              loanNumber_17\n",
            "9.798836e-05                              loanNumber_18\n",
            "8.448146e-05                              loanNumber_19\n",
            "6.340434e-03                               loanNumber_2\n",
            "5.894473e-05                              loanNumber_20\n",
            "6.121913e-05                              loanNumber_21\n",
            "3.538222e-05                              loanNumber_22\n",
            "2.100193e-05                              loanNumber_23\n",
            "4.708550e-06                              loanNumber_24\n",
            "1.449807e-05                              loanNumber_25\n",
            "5.097730e-06                              loanNumber_26\n",
            "3.224549e-07                              loanNumber_27\n",
            "1.177961e-07                              loanNumber_28\n",
            "1.922872e-06                              loanNumber_29\n",
            "8.449644e-03                               loanNumber_3\n",
            "0.000000e+00                              loanNumber_30\n",
            "0.000000e+00                              loanNumber_31\n",
            "0.000000e+00                              loanNumber_32\n",
            "7.107759e-03                               loanNumber_4\n",
            "4.568778e-03                               loanNumber_5\n",
            "3.444118e-03                               loanNumber_6\n",
            "2.025700e-03                               loanNumber_7\n",
            "1.140721e-03                               loanNumber_8\n",
            "8.068640e-04                               loanNumber_9\n",
            "0.000000e+00                    clientTimeAtEmployer_-5\n",
            "0.000000e+00                    clientTimeAtEmployer_-6\n",
            "0.000000e+00                    clientTimeAtEmployer_-7\n",
            "2.037530e-03                     clientTimeAtEmployer_0\n",
            "1.403274e-03                     clientTimeAtEmployer_1\n",
            "1.217527e-03                    clientTimeAtEmployer_10\n",
            "1.289172e-03                    clientTimeAtEmployer_11\n",
            "2.023222e-03                    clientTimeAtEmployer_12\n",
            "1.502532e-03                    clientTimeAtEmployer_13\n",
            "1.352911e-03                    clientTimeAtEmployer_14\n",
            "1.228081e-03                    clientTimeAtEmployer_15\n",
            "1.323796e-03                    clientTimeAtEmployer_16\n",
            "1.280609e-03                    clientTimeAtEmployer_17\n",
            "1.241884e-03                    clientTimeAtEmployer_18\n",
            "1.085639e-03                    clientTimeAtEmployer_19\n",
            "1.551390e-03                     clientTimeAtEmployer_2\n",
            "1.216144e-03                    clientTimeAtEmployer_20\n",
            "1.017040e-03                    clientTimeAtEmployer_21\n",
            "1.127171e-03                    clientTimeAtEmployer_22\n",
            "1.276557e-03                    clientTimeAtEmployer_23\n",
            "1.753314e-03                    clientTimeAtEmployer_24\n",
            "1.410222e-03                    clientTimeAtEmployer_25\n",
            "1.253579e-03                    clientTimeAtEmployer_26\n",
            "1.629746e-03                    clientTimeAtEmployer_27\n",
            "1.102618e-03                    clientTimeAtEmployer_28\n",
            "1.183604e-03                    clientTimeAtEmployer_29\n",
            "1.513262e-03                     clientTimeAtEmployer_3\n",
            "1.058594e-03                    clientTimeAtEmployer_30\n",
            "1.050379e-03                    clientTimeAtEmployer_31\n",
            "8.931502e-04                    clientTimeAtEmployer_32\n",
            "9.268826e-04                    clientTimeAtEmployer_33\n",
            "9.352910e-04                    clientTimeAtEmployer_34\n",
            "1.100199e-03                    clientTimeAtEmployer_35\n",
            "2.245762e-02                   clientTimeAtEmployer_36+\n",
            "1.502155e-03                     clientTimeAtEmployer_4\n",
            "1.397979e-03                     clientTimeAtEmployer_5\n",
            "1.556565e-03                     clientTimeAtEmployer_6\n",
            "1.160594e-03                     clientTimeAtEmployer_7\n",
            "1.288318e-03                     clientTimeAtEmployer_8\n",
            "1.269851e-03                     clientTimeAtEmployer_9\n",
            "1.163880e-03                           clientState_ABIA\n",
            "7.959661e-03                          clientState_ABUJA\n",
            "5.073010e-04                        clientState_ADAMAWA\n",
            "1.442376e-03                      clientState_AKWA IBOM\n",
            "1.142906e-03                        clientState_ANAMBRA\n",
            "2.979596e-04                         clientState_BAUCHI\n",
            "1.005164e-03                        clientState_BAYELSA\n",
            "1.364736e-03                          clientState_BENUE\n",
            "2.069936e-04                          clientState_BORNO\n",
            "1.124230e-03                    clientState_CROSS RIVER\n",
            "2.719160e-03                          clientState_DELTA\n",
            "3.974341e-04                         clientState_EBONYI\n",
            "1.843065e-03                            clientState_EDO\n",
            "1.571789e-03                          clientState_EKITI\n",
            "1.133383e-03                          clientState_ENUGU\n",
            "2.061255e-04                          clientState_GOMBE\n",
            "1.022690e-03                            clientState_IMO\n",
            "4.025125e-05                         clientState_JIGAWA\n",
            "2.151325e-03                         clientState_KADUNA\n",
            "7.991662e-04                           clientState_KANO\n",
            "2.603879e-04                        clientState_KATSINA\n",
            "2.604609e-04                          clientState_KEBBI\n",
            "1.494072e-03                           clientState_KOGI\n",
            "2.475777e-03                          clientState_KWARA\n",
            "1.453734e-02                          clientState_LAGOS\n",
            "1.241050e-03                       clientState_NASARAWA\n",
            "1.889485e-03                          clientState_NIGER\n",
            "6.309197e-03                           clientState_OGUN\n",
            "2.460602e-03                           clientState_ONDO\n",
            "2.569665e-03                           clientState_OSUN\n",
            "6.294179e-03                            clientState_OYO\n",
            "1.367453e-03                        clientState_PLATEAU\n",
            "3.604762e-03                         clientState_RIVERS\n",
            "3.700430e-04                         clientState_SOKOTO\n",
            "3.293189e-04                         clientState_TARABA\n",
            "1.019011e-04                           clientState_YOBE\n",
            "2.302306e-04                        clientState_ZAMFARA\n",
            "3.144709e-03  clientResidentialStauts_Employer Provided\n",
            "5.734900e-03       clientResidentialStauts_Family Owned\n",
            "5.369744e-03      clientResidentialStauts_Own Residence\n",
            "8.548599e-03             clientResidentialStauts_Rented\n",
            "1.931168e-04    clientResidentialStauts_Temp. Residence\n",
            "1.533170e-02                 clientLoanPurpose_business\n",
            "4.976065e-03                clientLoanPurpose_education\n",
            "6.901642e-03                    clientLoanPurpose_house\n",
            "4.206725e-03                  clientLoanPurpose_medical\n",
            "7.782540e-03                    clientLoanPurpose_other\n",
            "7.181973e-03                        clientGender_FEMALE\n",
            "6.179233e-03                          clientGender_MALE\n",
            "2.211589e-05               clientMaritalStatus_Divorced\n",
            "6.205757e-03                clientMaritalStatus_Married\n",
            "9.910028e-04              clientMaritalStatus_Separated\n",
            "5.897039e-03                 clientMaritalStatus_Single\n",
            "5.848136e-04                clientMaritalStatus_Widowed\n",
            "3.918363e-03                       incomeVerified_false\n",
            "3.391348e-03                        incomeVerified_true\n",
            "3.522625e-02                            ratioLoanIncome\n"
          ],
          "name": "stdout"
        }
      ]
    },
    {
      "cell_type": "code",
      "metadata": {
        "id": "khoZB8pE6ttp",
        "colab_type": "code",
        "outputId": "203bd7bf-288c-45d0-e06e-27b5e714c118",
        "colab": {
          "base_uri": "https://localhost:8080/",
          "height": 347
        }
      },
      "source": [
        "plt.bar(range(len(classifier.feature_importances_)), classifier.feature_importances_)\n",
        "plt.show()"
      ],
      "execution_count": 0,
      "outputs": [
        {
          "output_type": "display_data",
          "data": {
            "image/png": "[encoded data removed]",
            "text/plain": [
              "<Figure size 576x396 with 1 Axes>"
            ]
          },
          "metadata": {
            "tags": []
          }
        }
      ]
    },
    {
      "cell_type": "code",
      "metadata": {
        "id": "OdOD-DR4oNHM",
        "colab_type": "code",
        "colab": {}
      },
      "source": [
        "#Function used to graphically illustrate confusion matrix\n",
        "def plot_confusion_matrix(y_true, y_pred, classes,\n",
        "                          normalize=False,\n",
        "                          title=None,\n",
        "                          cmap=plt.cm.Blues):\n",
        "    \"\"\"\n",
        "    This function prints and plots the confusion matrix.\n",
        "    Normalization can be applied by setting `normalize=True`.\n",
        "    \"\"\"\n",
        "    if not title:\n",
        "        if normalize:\n",
        "            title = 'Normalized confusion matrix'\n",
        "        else:\n",
        "            title = 'Confusion matrix, without normalization'\n",
        "    # Compute confusion matrix\n",
        "    cm = confusion_matrix(y_true, y_pred)\n",
        "    # Only use the labels that appear in the data\n",
        "    classes = classes[unique_labels(y_true, y_pred)]\n",
        "    if normalize:\n",
        "        cm = cm.astype('float') / cm.sum(axis=1)[:, np.newaxis]\n",
        "        print(\"Normalized confusion matrix\")\n",
        "    else:\n",
        "        print('Confusion matrix, without normalization')\n",
        "\n",
        "    print(cm)\n",
        "\n",
        "    fig, ax = plt.subplots()\n",
        "    im = ax.imshow(cm, interpolation='nearest', cmap=cmap)\n",
        "    ax.figure.colorbar(im, ax=ax)\n",
        "    ax.grid(False)\n",
        "    # We want to show all ticks...\n",
        "    ax.set(xticks=np.arange(cm.shape[1]),\n",
        "           yticks=np.arange(cm.shape[0]),\n",
        "           # ... and label them with the respective list entries\n",
        "           xticklabels=classes, yticklabels=classes,\n",
        "           title=title,\n",
        "           ylabel='True label',\n",
        "           xlabel='Predicted label')\n",
        "\n",
        "    # Rotate the tick labels and set their alignment.\n",
        "    plt.setp(ax.get_xticklabels(), rotation=45, ha=\"right\",\n",
        "             rotation_mode=\"anchor\")\n",
        "\n",
        "    # Loop over data dimensions and create text annotations.\n",
        "    fmt = '.2f' if normalize else 'd'\n",
        "    thresh = cm.max() / 2.\n",
        "    for i in range(cm.shape[0]):\n",
        "        for j in range(cm.shape[1]):\n",
        "            ax.text(j, i, format(cm[i, j], fmt),\n",
        "                    ha=\"center\", va=\"center\",\n",
        "                    color=\"white\" if cm[i, j] > thresh else \"black\")\n",
        "    fig.tight_layout()\n",
        "    return ax"
      ],
      "execution_count": 0,
      "outputs": []
    },
    {
      "cell_type": "markdown",
      "metadata": {
        "id": "zE5P66xKvtMI",
        "colab_type": "text"
      },
      "source": [
        "**Performance of Random Forest Classifier on the training dataset**"
      ]
    },
    {
      "cell_type": "code",
      "metadata": {
        "id": "GWDPBKWo9htB",
        "colab_type": "code",
        "outputId": "4e87fcfc-c0a7-4560-96d5-34bc49eac902",
        "colab": {
          "base_uri": "https://localhost:8080/",
          "height": 469
        }
      },
      "source": [
        "#This prints and plots the confusion matrix for the rfc classifier on the training dataset\n",
        "class_names=np.array((0,1))\n",
        "plot_confusion_matrix(y_train, y_train_pred_rfc, classes=class_names, title='Training Dataset Confusion Matrix RFC')"
      ],
      "execution_count": 0,
      "outputs": [
        {
          "output_type": "stream",
          "text": [
            "Confusion matrix, without normalization\n",
            "[[70733    11]\n",
            " [  311 70433]]\n"
          ],
          "name": "stdout"
        },
        {
          "output_type": "execute_result",
          "data": {
            "text/plain": [
              "<matplotlib.axes._subplots.AxesSubplot at 0x7fb557455828>"
            ]
          },
          "metadata": {
            "tags": []
          },
          "execution_count": 41
        },
        {
          "output_type": "display_data",
          "data": {
            "image/png": "[encoded data removed]",
            "text/plain": [
              "<Figure size 576x396 with 2 Axes>"
            ]
          },
          "metadata": {
            "tags": []
          }
        }
      ]
    },
    {
      "cell_type": "code",
      "metadata": {
        "id": "yRQ7fyCXEV8f",
        "colab_type": "code",
        "outputId": "1b775fc4-7cc9-46cc-905f-ff1e774db31d",
        "colab": {
          "base_uri": "https://localhost:8080/",
          "height": 187
        }
      },
      "source": [
        "#Checks the performance on Training Dataset\n",
        "print(classification_report(y_train,y_train_pred_rfc))  \n",
        "print(accuracy_score(y_train, y_train_pred_rfc))"
      ],
      "execution_count": 0,
      "outputs": [
        {
          "output_type": "stream",
          "text": [
            "              precision    recall  f1-score   support\n",
            "\n",
            "           0       1.00      1.00      1.00     70744\n",
            "           1       1.00      1.00      1.00     70744\n",
            "\n",
            "   micro avg       1.00      1.00      1.00    141488\n",
            "   macro avg       1.00      1.00      1.00    141488\n",
            "weighted avg       1.00      1.00      1.00    141488\n",
            "\n",
            "0.9977241886237702\n"
          ],
          "name": "stdout"
        }
      ]
    },
    {
      "cell_type": "code",
      "metadata": {
        "id": "re5RSdSM-geo",
        "colab_type": "code",
        "outputId": "8e29dd68-3261-429d-a7ab-63ab408c7655",
        "colab": {
          "base_uri": "https://localhost:8080/",
          "height": 379
        }
      },
      "source": [
        "#Plotting AOC curve\n",
        "probs_rfc_train = classifier.predict_proba(X_train)\n",
        "probs_rfc_train = probs_rfc_train[:, 1]\n",
        "auc_rfc_train = roc_auc_score(y_train, probs_rfc_train)\n",
        "print('AUC: %.3f' % auc_rfc_train)\n",
        "# calculate roc curve\n",
        "fpr_rfc_train, tpr_rfc_train, thresholds_rfc_train = roc_curve(y_train, probs_rfc_train)\n",
        "# plot no skill\n",
        "plt.plot([0, 1], [0, 1], linestyle='--')\n",
        "# plot the roc curve for the model\n",
        "plt.title('AOC curve for RFC Model Performance on Training Dataset')\n",
        "plt.plot(fpr_rfc_train, tpr_rfc_train, marker='.')\n",
        "# show the plot\n",
        "plt.show()"
      ],
      "execution_count": 0,
      "outputs": [
        {
          "output_type": "stream",
          "text": [
            "AUC: 1.000\n"
          ],
          "name": "stdout"
        },
        {
          "output_type": "display_data",
          "data": {
            "image/png": "[encoded data removed]",
            "text/plain": [
              "<Figure size 576x396 with 1 Axes>"
            ]
          },
          "metadata": {
            "tags": []
          }
        }
      ]
    },
    {
      "cell_type": "markdown",
      "metadata": {
        "id": "5g-9-VpM-NBP",
        "colab_type": "text"
      },
      "source": [
        "**Performance of Random Forest Classifier on the Test dataset**"
      ]
    },
    {
      "cell_type": "code",
      "metadata": {
        "id": "Eb81zsA-onN_",
        "colab_type": "code",
        "outputId": "912184d8-5d2b-4f41-94b5-376d8e32fdb8",
        "colab": {
          "base_uri": "https://localhost:8080/",
          "height": 469
        }
      },
      "source": [
        "class_names=np.array((0,1))\n",
        "plot_confusion_matrix(y_test, y_pred_rfc, classes=class_names, title='Test Dataset Confusion Matrix RFC')"
      ],
      "execution_count": 0,
      "outputs": [
        {
          "output_type": "stream",
          "text": [
            "Confusion matrix, without normalization\n",
            "[[28298  1673]\n",
            " [ 4819  7131]]\n"
          ],
          "name": "stdout"
        },
        {
          "output_type": "execute_result",
          "data": {
            "text/plain": [
              "<matplotlib.axes._subplots.AxesSubplot at 0x7fb5573ac7f0>"
            ]
          },
          "metadata": {
            "tags": []
          },
          "execution_count": 43
        },
        {
          "output_type": "display_data",
          "data": {
            "image/png": "[encoded data removed]",
            "text/plain": [
              "<Figure size 576x396 with 2 Axes>"
            ]
          },
          "metadata": {
            "tags": []
          }
        }
      ]
    },
    {
      "cell_type": "code",
      "metadata": {
        "id": "CTmnZGWEFoc0",
        "colab_type": "code",
        "outputId": "39d6b9e0-b8bd-4ec1-e2db-b95c9cfd7624",
        "colab": {
          "base_uri": "https://localhost:8080/",
          "height": 187
        }
      },
      "source": [
        "#Checks the performance on Test Dataset\n",
        "print(classification_report(y_test,y_pred_rfc))  \n",
        "print(accuracy_score(y_test, y_pred_rfc))"
      ],
      "execution_count": 0,
      "outputs": [
        {
          "output_type": "stream",
          "text": [
            "              precision    recall  f1-score   support\n",
            "\n",
            "           0       0.85      0.94      0.90     29971\n",
            "           1       0.81      0.60      0.69     11950\n",
            "\n",
            "   micro avg       0.85      0.85      0.85     41921\n",
            "   macro avg       0.83      0.77      0.79     41921\n",
            "weighted avg       0.84      0.85      0.84     41921\n",
            "\n",
            "0.8451372820304859\n"
          ],
          "name": "stdout"
        }
      ]
    },
    {
      "cell_type": "code",
      "metadata": {
        "id": "Vohrwo3MMEld",
        "colab_type": "code",
        "outputId": "2dc3314f-c368-4bec-c936-bbb6703e815a",
        "colab": {
          "base_uri": "https://localhost:8080/",
          "height": 379
        }
      },
      "source": [
        "#Plotting AOC curve\n",
        "probs_rfc = classifier.predict_proba(X_test)\n",
        "probs_rfc = probs_rfc[:, 1]\n",
        "auc_rfc = roc_auc_score(y_test, probs_rfc)\n",
        "print('AUC: %.3f' % auc_rfc)\n",
        "# calculate roc curve\n",
        "fpr_rfc, tpr_rfc, thresholds_rfc = roc_curve(y_test, probs_rfc)\n",
        "# plot no skill\n",
        "plt.plot([0, 1], [0, 1], linestyle='--')\n",
        "# plot the roc curve for the model\n",
        "plt.plot(fpr_rfc, tpr_rfc, marker='.')\n",
        "plt.title('AOC curve for RFC Model Performance on Test Dataset')\n",
        "# show the plot\n",
        "plt.show()"
      ],
      "execution_count": 0,
      "outputs": [
        {
          "output_type": "stream",
          "text": [
            "AUC: 0.860\n"
          ],
          "name": "stdout"
        },
        {
          "output_type": "display_data",
          "data": {
            "image/png": "[encoded data removed]",
            "text/plain": [
              "<Figure size 576x396 with 1 Axes>"
            ]
          },
          "metadata": {
            "tags": []
          }
        }
      ]
    },
    {
      "cell_type": "markdown",
      "metadata": {
        "id": "3Incl9Tx-_cx",
        "colab_type": "text"
      },
      "source": [
        "It is interesting to note that on comparison of the performance metrics for the training dataset and test dataset, the training outperforms the test significantly. This is indicative of the model overfitting to the dataset and can be fixed by utilising hyperparameter tuning."
      ]
    },
    {
      "cell_type": "markdown",
      "metadata": {
        "id": "n0bQl166AzQO",
        "colab_type": "text"
      },
      "source": [
        "####**Implementing  HyperParameter Tuning for Random Forest Classifier**"
      ]
    },
    {
      "cell_type": "markdown",
      "metadata": {
        "id": "_UlwWO5SB5Mu",
        "colab_type": "text"
      },
      "source": [
        "**Random Hyperparameter grid**"
      ]
    },
    {
      "cell_type": "code",
      "metadata": {
        "id": "NvsdAMEgBqHk",
        "colab_type": "code",
        "outputId": "fb1dae2e-3eef-4635-f436-cb080907ef78",
        "colab": {
          "base_uri": "https://localhost:8080/",
          "height": 54
        }
      },
      "source": [
        "# Number of trees in random forest\n",
        "n_estimators = [int(x) for x in np.linspace(start = 200, stop = 2000, num = 10)]\n",
        "# Number of features to consider at every split\n",
        "max_features = ['auto', 'sqrt']\n",
        "# Maximum number of levels in tree\n",
        "max_depth = [int(x) for x in np.linspace(10, 110, num = 11)]\n",
        "max_depth.append(None)\n",
        "# Minimum number of samples required to split a node\n",
        "min_samples_split = [2, 5, 10]\n",
        "# Minimum number of samples required at each leaf node\n",
        "min_samples_leaf = [1, 2, 4]\n",
        "# Method of selecting samples for training each tree\n",
        "bootstrap = [True, False]\n",
        "# Create the random grid\n",
        "random_grid = {'n_estimators': n_estimators,\n",
        "               'max_features': max_features,\n",
        "               'max_depth': max_depth,\n",
        "               'min_samples_split': min_samples_split,\n",
        "               'min_samples_leaf': min_samples_leaf,\n",
        "               'bootstrap': bootstrap}\n",
        "\n",
        "\n",
        "print(random_grid)"
      ],
      "execution_count": 0,
      "outputs": [
        {
          "output_type": "stream",
          "text": [
            "{'n_estimators': [200, 400, 600, 800, 1000, 1200, 1400, 1600, 1800, 2000], 'max_features': ['auto', 'sqrt'], 'max_depth': [10, 20, 30, 40, 50, 60, 70, 80, 90, 100, 110, None], 'min_samples_split': [2, 5, 10], 'min_samples_leaf': [1, 2, 4], 'bootstrap': [True, False]}\n"
          ],
          "name": "stdout"
        }
      ]
    },
    {
      "cell_type": "markdown",
      "metadata": {
        "id": "DHTVDgk8B-i_",
        "colab_type": "text"
      },
      "source": [
        "**Random Search Training**"
      ]
    },
    {
      "cell_type": "code",
      "metadata": {
        "id": "mBuwffz3CLAo",
        "colab_type": "code",
        "outputId": "98ec20b4-1966-46a4-932b-6bc04d715277",
        "colab": {
          "base_uri": "https://localhost:8080/",
          "height": 122
        }
      },
      "source": [
        "# Use the random grid to search for best hyperparameters\n",
        "# First create the base model to tune\n",
        "# Random search of parameters, using 3 fold cross validation, \n",
        "# search across 100 different combinations, and use all available cores\n",
        "rf_random = RandomizedSearchCV(estimator = classifier, param_distributions = random_grid, n_iter = 100, cv = 3, verbose=2, random_state=42, n_jobs = -1)\n",
        "# Fit the random search model\n",
        "rf_random.fit(X_train, y_train)"
      ],
      "execution_count": 0,
      "outputs": [
        {
          "output_type": "stream",
          "text": [
            "Fitting 3 folds for each of 100 candidates, totalling 300 fits\n"
          ],
          "name": "stdout"
        },
        {
          "output_type": "stream",
          "text": [
            "[Parallel(n_jobs=-1)]: Using backend LokyBackend with 2 concurrent workers.\n",
            "/usr/local/lib/python3.6/dist-packages/sklearn/externals/joblib/externals/loky/process_executor.py:706: UserWarning: A worker stopped while some jobs were given to the executor. This can be caused by a too short worker timeout or by a memory leak.\n",
            "  \"timeout or by a memory leak.\", UserWarning\n",
            "[Parallel(n_jobs=-1)]: Done  37 tasks      | elapsed: 198.2min\n"
          ],
          "name": "stderr"
        }
      ]
    },
    {
      "cell_type": "markdown",
      "metadata": {
        "id": "1Zgz4TXn7cC3",
        "colab_type": "text"
      },
      "source": [
        "**Implemeting best features from the random search**"
      ]
    },
    {
      "cell_type": "code",
      "metadata": {
        "id": "pl2of4cN6Beg",
        "colab_type": "code",
        "outputId": "e98f37cb-8911-49c2-ae19-f2687b88fe1f",
        "colab": {
          "base_uri": "https://localhost:8080/",
          "height": 136
        }
      },
      "source": [
        "#This fits the best features from the random search\n",
        "rfc_random=RandomForestClassifier(n_estimators=80, max_features=0.91, min_samples_split=0.42, max_depth=10)\n",
        "rfc_random.fit(X_train, y_train)"
      ],
      "execution_count": 0,
      "outputs": [
        {
          "output_type": "execute_result",
          "data": {
            "text/plain": [
              "RandomForestClassifier(bootstrap=True, class_weight=None, criterion='gini',\n",
              "            max_depth=10, max_features=0.91, max_leaf_nodes=None,\n",
              "            min_impurity_decrease=0.0, min_impurity_split=None,\n",
              "            min_samples_leaf=1, min_samples_split=0.42,\n",
              "            min_weight_fraction_leaf=0.0, n_estimators=80, n_jobs=None,\n",
              "            oob_score=False, random_state=None, verbose=0,\n",
              "            warm_start=False)"
            ]
          },
          "metadata": {
            "tags": []
          },
          "execution_count": 51
        }
      ]
    },
    {
      "cell_type": "code",
      "metadata": {
        "id": "33aaM_iPBGP3",
        "colab_type": "code",
        "colab": {}
      },
      "source": [
        "#This predicts the target for both the training and test datasets\n",
        "y_train_pred_rfc_random=rfc_random.predict(X_train)\n",
        "y_pred_rfc_random = rfc_random.predict(X_test) "
      ],
      "execution_count": 0,
      "outputs": []
    },
    {
      "cell_type": "markdown",
      "metadata": {
        "id": "G30g5yymEIIt",
        "colab_type": "text"
      },
      "source": [
        "**Performance of the Tuned Random Forest Classifer on training dataset**"
      ]
    },
    {
      "cell_type": "code",
      "metadata": {
        "id": "j_I2f0d3BWDI",
        "colab_type": "code",
        "outputId": "0eddca2c-b9d0-4a31-85d1-58fc733e8a60",
        "colab": {
          "base_uri": "https://localhost:8080/",
          "height": 469
        }
      },
      "source": [
        "#This prints and plots the confusion matrix of the Tuned model on the training dataset\n",
        "class_names=np.array((0,1))\n",
        "plot_confusion_matrix(y_train, y_train_pred_rfc_random, classes=class_names, title='Training Dataset Confusion Matrix Tuned-RFC')"
      ],
      "execution_count": 0,
      "outputs": [
        {
          "output_type": "stream",
          "text": [
            "Confusion matrix, without normalization\n",
            "[[62370  8374]\n",
            " [13486 57258]]\n"
          ],
          "name": "stdout"
        },
        {
          "output_type": "execute_result",
          "data": {
            "text/plain": [
              "<matplotlib.axes._subplots.AxesSubplot at 0x7fb556ead198>"
            ]
          },
          "metadata": {
            "tags": []
          },
          "execution_count": 62
        },
        {
          "output_type": "display_data",
          "data": {
            "image/png": "[encoded data removed]",
            "text/plain": [
              "<Figure size 576x396 with 2 Axes>"
            ]
          },
          "metadata": {
            "tags": []
          }
        }
      ]
    },
    {
      "cell_type": "code",
      "metadata": {
        "id": "hkqWnP90CkkL",
        "colab_type": "code",
        "outputId": "0fcb02c1-33f4-446d-d5b2-817d7280489e",
        "colab": {
          "base_uri": "https://localhost:8080/",
          "height": 187
        }
      },
      "source": [
        "#Checks the Tuned performance on Training Dataset\n",
        "print(classification_report(y_train,y_train_pred_rfc_random))  \n",
        "print(accuracy_score(y_train, y_train_pred_rfc_random))"
      ],
      "execution_count": 0,
      "outputs": [
        {
          "output_type": "stream",
          "text": [
            "              precision    recall  f1-score   support\n",
            "\n",
            "           0       0.82      0.88      0.85     70744\n",
            "           1       0.87      0.81      0.84     70744\n",
            "\n",
            "   micro avg       0.85      0.85      0.85    141488\n",
            "   macro avg       0.85      0.85      0.85    141488\n",
            "weighted avg       0.85      0.85      0.85    141488\n",
            "\n",
            "0.8454992649553319\n"
          ],
          "name": "stdout"
        }
      ]
    },
    {
      "cell_type": "code",
      "metadata": {
        "id": "VPP6lm3DDMmN",
        "colab_type": "code",
        "outputId": "6101db98-967f-4e72-b762-130573b2b780",
        "colab": {
          "base_uri": "https://localhost:8080/",
          "height": 379
        }
      },
      "source": [
        "#Plotting AOC curve\n",
        "probs_train_rfc_random = rfc_random.predict_proba(X_train)\n",
        "probs_train_rfc_random = probs_train_rfc_random[:, 1]\n",
        "auc_train_rfc_random = roc_auc_score(y_train, probs_train_rfc_random)\n",
        "print('AUC: %.3f' % auc_train_rfc_random)\n",
        "# calculate roc curve\n",
        "fpr_train_rfc_random, tpr_train_rfc_random, thresholds_train_rfc_random = roc_curve(y_train, probs_train_rfc_random)\n",
        "# plot no skill\n",
        "plt.plot([0, 1], [0, 1], linestyle='--')\n",
        "# plot the roc curve for the model\n",
        "plt.plot(fpr_train_rfc_random, tpr_train_rfc_random, marker='.')\n",
        "plt.title('AOC curve for Tuned RFC Model Performance on Training Dataset')\n",
        "# show the plot\n",
        "plt.show()"
      ],
      "execution_count": 0,
      "outputs": [
        {
          "output_type": "stream",
          "text": [
            "AUC: 0.885\n"
          ],
          "name": "stdout"
        },
        {
          "output_type": "display_data",
          "data": {
            "image/png": "[encoded data removed]",
            "text/plain": [
              "<Figure size 576x396 with 1 Axes>"
            ]
          },
          "metadata": {
            "tags": []
          }
        }
      ]
    },
    {
      "cell_type": "markdown",
      "metadata": {
        "id": "sFLxU-g4IGKV",
        "colab_type": "text"
      },
      "source": [
        "**Pefromance of the Tuned Random Forest Classifier on the test Dataset**"
      ]
    },
    {
      "cell_type": "code",
      "metadata": {
        "id": "JrnpKRjqB-Yh",
        "colab_type": "code",
        "outputId": "138cc8a2-526c-4dbe-9a8a-4650313fd229",
        "colab": {
          "base_uri": "https://localhost:8080/",
          "height": 469
        }
      },
      "source": [
        "#Checks the tuned performance on the test dataset\n",
        "class_names=np.array((0,1))\n",
        "plot_confusion_matrix(y_test, y_pred_rfc_random, classes=class_names, title='Test Dataset Confusion Matrix Tuned-RFC')"
      ],
      "execution_count": 0,
      "outputs": [
        {
          "output_type": "stream",
          "text": [
            "Confusion matrix, without normalization\n",
            "[[26548  3423]\n",
            " [ 2915  9035]]\n"
          ],
          "name": "stdout"
        },
        {
          "output_type": "execute_result",
          "data": {
            "text/plain": [
              "<matplotlib.axes._subplots.AxesSubplot at 0x7fb556fc5eb8>"
            ]
          },
          "metadata": {
            "tags": []
          },
          "execution_count": 55
        },
        {
          "output_type": "display_data",
          "data": {
            "image/png": "[encoded data removed]",
            "text/plain": [
              "<Figure size 576x396 with 2 Axes>"
            ]
          },
          "metadata": {
            "tags": []
          }
        }
      ]
    },
    {
      "cell_type": "code",
      "metadata": {
        "id": "E-7qlzReCw5d",
        "colab_type": "code",
        "outputId": "bb166d71-d093-47c1-b9f3-7b3f17ac1a90",
        "colab": {
          "base_uri": "https://localhost:8080/",
          "height": 187
        }
      },
      "source": [
        "#Checks the Tuned performance on Test Dataset\n",
        "print(classification_report(y_test,y_pred_rfc_random))  \n",
        "print(accuracy_score(y_test, y_pred_rfc_random))"
      ],
      "execution_count": 0,
      "outputs": [
        {
          "output_type": "stream",
          "text": [
            "              precision    recall  f1-score   support\n",
            "\n",
            "           0       0.90      0.89      0.89     29971\n",
            "           1       0.73      0.76      0.74     11950\n",
            "\n",
            "   micro avg       0.85      0.85      0.85     41921\n",
            "   macro avg       0.81      0.82      0.82     41921\n",
            "weighted avg       0.85      0.85      0.85     41921\n",
            "\n",
            "0.8488108585195964\n"
          ],
          "name": "stdout"
        }
      ]
    },
    {
      "cell_type": "code",
      "metadata": {
        "id": "45pCmMwUIX60",
        "colab_type": "code",
        "outputId": "205a5718-cc65-431d-a2a3-cdd27ba02743",
        "colab": {
          "base_uri": "https://localhost:8080/",
          "height": 379
        }
      },
      "source": [
        "#Plotting AOC curve\n",
        "probs_rfc_random = rfc_random.predict_proba(X_test)\n",
        "probs_rfc_random = probs_rfc_random[:, 1]\n",
        "auc_rfc_random = roc_auc_score(y_test, probs_rfc_random)\n",
        "print('AUC: %.3f' % auc_rfc_random)\n",
        "# calculate roc curve\n",
        "fpr_rfc_random, tpr_rfc_random, thresholds_rfc_random = roc_curve(y_test, probs_rfc_random)\n",
        "# plot no skill\n",
        "plt.plot([0, 1], [0, 1], linestyle='--')\n",
        "# plot the roc curve for the model\n",
        "plt.plot(fpr_rfc_random, tpr_rfc_random, marker='.')\n",
        "plt.title('AOC curve for Tuned RFC Model Performance on Test Dataset')\n",
        "# show the plot\n",
        "plt.show()"
      ],
      "execution_count": 0,
      "outputs": [
        {
          "output_type": "stream",
          "text": [
            "AUC: 0.858\n"
          ],
          "name": "stdout"
        },
        {
          "output_type": "display_data",
          "data": {
            "image/png": "[encoded data removed]",
            "text/plain": [
              "<Figure size 576x396 with 1 Axes>"
            ]
          },
          "metadata": {
            "tags": []
          }
        }
      ]
    },
    {
      "cell_type": "markdown",
      "metadata": {
        "id": "0SVOJhjDJBeS",
        "colab_type": "text"
      },
      "source": [
        "####**Summary of Random Forest Classifier**"
      ]
    },
    {
      "cell_type": "markdown",
      "metadata": {
        "id": "ZlDQshbYJFfu",
        "colab_type": "text"
      },
      "source": [
        "The tuned random forest classifier outperforms the original on the test dataset by preventing overfitting.\n",
        "\n",
        "The Monitored performance metric, Recall on the Original Model was **0.60** while that on the tuned model is **0.76**. This represents an increase of about **16%** "
      ]
    },
    {
      "cell_type": "markdown",
      "metadata": {
        "id": "xnUHTTRCuyNL",
        "colab_type": "text"
      },
      "source": [
        "####**Implementing the Neural Network Classifier**"
      ]
    },
    {
      "cell_type": "code",
      "metadata": {
        "id": "ISuTAI8Wsi53",
        "colab_type": "code",
        "colab": {}
      },
      "source": [
        "#Trains The Neural Network Classifier\n",
        "clf = MLPClassifier(solver='lbfgs', alpha=1e-5,hidden_layer_sizes=(10,10,10), random_state=1)\n",
        "clf.fit(X_train, y_train)  \n"
      ],
      "execution_count": 0,
      "outputs": []
    },
    {
      "cell_type": "code",
      "metadata": {
        "id": "aj69A6AWGO7y",
        "colab_type": "code",
        "colab": {}
      },
      "source": [
        "# This produces the predictions of the model on the training and test dataset\n",
        "y_pred_nn = clf.predict(X_test)\n",
        "y_train_pred_nn=clf.predict(X_train)"
      ],
      "execution_count": 0,
      "outputs": []
    },
    {
      "cell_type": "markdown",
      "metadata": {
        "id": "Xxf_BAnuPUI_",
        "colab_type": "text"
      },
      "source": [
        "**Performance of the Neural Network on the Training Dataset**"
      ]
    },
    {
      "cell_type": "code",
      "metadata": {
        "id": "JA7L2-4N9mkf",
        "colab_type": "code",
        "outputId": "1bd87401-435f-434f-bd4b-0858900c08a4",
        "colab": {
          "base_uri": "https://localhost:8080/",
          "height": 469
        }
      },
      "source": [
        "#Plot confusion matrix for Neural Network\n",
        "class_names=np.array((0,1))\n",
        "plot_confusion_matrix(y_train, y_train_pred_nn, classes=class_names, title='Training Dateset Confusion Matrix Neural Network')"
      ],
      "execution_count": 0,
      "outputs": [
        {
          "output_type": "stream",
          "text": [
            "Confusion matrix, without normalization\n",
            "[[61904  8840]\n",
            " [15856 54888]]\n"
          ],
          "name": "stdout"
        },
        {
          "output_type": "execute_result",
          "data": {
            "text/plain": [
              "<matplotlib.axes._subplots.AxesSubplot at 0x7fb55729d400>"
            ]
          },
          "metadata": {
            "tags": []
          },
          "execution_count": 72
        },
        {
          "output_type": "display_data",
          "data": {
            "image/png": "[encoded data removed]",
            "text/plain": [
              "<Figure size 576x396 with 2 Axes>"
            ]
          },
          "metadata": {
            "tags": []
          }
        }
      ]
    },
    {
      "cell_type": "code",
      "metadata": {
        "id": "KqhMNFVkFeub",
        "colab_type": "code",
        "outputId": "96bc77f0-81ae-482e-eba3-dcccf4f84aeb",
        "colab": {
          "base_uri": "https://localhost:8080/",
          "height": 187
        }
      },
      "source": [
        "#Checks the performance on Training Dataset\n",
        "print(classification_report(y_train,y_train_pred_nn))  \n",
        "print(accuracy_score(y_train, y_train_pred_nn))\n"
      ],
      "execution_count": 0,
      "outputs": [
        {
          "output_type": "stream",
          "text": [
            "              precision    recall  f1-score   support\n",
            "\n",
            "           0       0.80      0.88      0.83     70744\n",
            "           1       0.86      0.78      0.82     70744\n",
            "\n",
            "   micro avg       0.83      0.83      0.83    141488\n",
            "   macro avg       0.83      0.83      0.83    141488\n",
            "weighted avg       0.83      0.83      0.83    141488\n",
            "\n",
            "0.825455162275246\n"
          ],
          "name": "stdout"
        }
      ]
    },
    {
      "cell_type": "code",
      "metadata": {
        "id": "f1yfa303RgHQ",
        "colab_type": "code",
        "outputId": "5ec02fe6-2e33-4898-ee90-88c0e348b3ce",
        "colab": {
          "base_uri": "https://localhost:8080/",
          "height": 379
        }
      },
      "source": [
        "#Plotting AOC curve\n",
        "probs_train_nn = clf.predict_proba(X_train)\n",
        "probs_train_nn = probs_train_nn[:, 1]\n",
        "auc_train_nn = roc_auc_score(y_train, probs_train_nn)\n",
        "print('AUC: %.3f' % auc_train_nn)\n",
        "# calculate roc curve\n",
        "fpr_train_nn, tpr_train_nn, thresholds_train_nn = roc_curve(y_train, probs_train_nn)\n",
        "# plot no skill\n",
        "plt.plot([0, 1], [0, 1], linestyle='--')\n",
        "# plot the roc curve for the model\n",
        "plt.plot(fpr_train_nn, tpr_train_nn, marker='.')\n",
        "plt.title('AOC curve for Neural Network Model Performance on Training Dataset')\n",
        "# show the plot\n",
        "plt.show()"
      ],
      "execution_count": 0,
      "outputs": [
        {
          "output_type": "stream",
          "text": [
            "AUC: 0.897\n"
          ],
          "name": "stdout"
        },
        {
          "output_type": "display_data",
          "data": {
            "image/png": "[encoded data removed]",
            "text/plain": [
              "<Figure size 576x396 with 1 Axes>"
            ]
          },
          "metadata": {
            "tags": []
          }
        }
      ]
    },
    {
      "cell_type": "markdown",
      "metadata": {
        "id": "wTrGOVbtSRP2",
        "colab_type": "text"
      },
      "source": [
        "**Performance of the Neural Network on the test dataset**"
      ]
    },
    {
      "cell_type": "code",
      "metadata": {
        "id": "N6T7-heUSeZ6",
        "colab_type": "code",
        "outputId": "5d48f627-8ab9-42e7-92a7-a5fda8126061",
        "colab": {
          "base_uri": "https://localhost:8080/",
          "height": 469
        }
      },
      "source": [
        "#Plot confusion matrix for Neural Network\n",
        "class_names=np.array((0,1))\n",
        "plot_confusion_matrix(y_test, y_pred_nn, classes=class_names, title='Test Dateset Confusion Matrix Neural Network')"
      ],
      "execution_count": 0,
      "outputs": [
        {
          "output_type": "stream",
          "text": [
            "Confusion matrix, without normalization\n",
            "[[26349  3622]\n",
            " [ 2931  9019]]\n"
          ],
          "name": "stdout"
        },
        {
          "output_type": "execute_result",
          "data": {
            "text/plain": [
              "<matplotlib.axes._subplots.AxesSubplot at 0x7fb556d01630>"
            ]
          },
          "metadata": {
            "tags": []
          },
          "execution_count": 75
        },
        {
          "output_type": "display_data",
          "data": {
            "image/png": "[encoded data removed]",
            "text/plain": [
              "<Figure size 576x396 with 2 Axes>"
            ]
          },
          "metadata": {
            "tags": []
          }
        }
      ]
    },
    {
      "cell_type": "code",
      "metadata": {
        "id": "6VuSDW8lv_zl",
        "colab_type": "code",
        "outputId": "4d6d98de-3c2f-4de6-843e-0b5b544db04d",
        "colab": {
          "base_uri": "https://localhost:8080/",
          "height": 187
        }
      },
      "source": [
        "#Checking the test Dataset\n",
        "print(classification_report(y_test,y_pred_nn))  \n",
        "print(accuracy_score(y_test, y_pred_nn))"
      ],
      "execution_count": 0,
      "outputs": [
        {
          "output_type": "stream",
          "text": [
            "              precision    recall  f1-score   support\n",
            "\n",
            "           0       0.90      0.88      0.89     29971\n",
            "           1       0.71      0.75      0.73     11950\n",
            "\n",
            "   micro avg       0.84      0.84      0.84     41921\n",
            "   macro avg       0.81      0.82      0.81     41921\n",
            "weighted avg       0.85      0.84      0.84     41921\n",
            "\n",
            "0.8436821640705136\n"
          ],
          "name": "stdout"
        }
      ]
    },
    {
      "cell_type": "code",
      "metadata": {
        "id": "nq8ISxTPwaZw",
        "colab_type": "code",
        "outputId": "ade4acdf-285f-4d5d-8829-f5ff46ef154f",
        "colab": {
          "base_uri": "https://localhost:8080/",
          "height": 379
        }
      },
      "source": [
        "#Plotting AOC curve\n",
        "probs_nn = clf.predict_proba(X_test)\n",
        "probs_nn = probs_nn[:, 1]\n",
        "auc_nn = roc_auc_score(y_test, probs_nn)\n",
        "print('AUC: %.3f' % auc_nn)\n",
        "# calculate roc curve\n",
        "fpr_nn, tpr_nn, thresholds_nn = roc_curve(y_test, probs_nn)\n",
        "# plot no skill\n",
        "plt.plot([0, 1], [0, 1], linestyle='--')\n",
        "# plot the roc curve for the model\n",
        "plt.plot(fpr_nn, tpr_nn, marker='.')\n",
        "plt.title('AOC curve for Neural Network Model Performance on test Dataset')\n",
        "# show the plot\n",
        "plt.show()"
      ],
      "execution_count": 0,
      "outputs": [
        {
          "output_type": "stream",
          "text": [
            "AUC: 0.875\n"
          ],
          "name": "stdout"
        },
        {
          "output_type": "display_data",
          "data": {
            "image/png": "[encoded data removed]",
            "text/plain": [
              "<Figure size 576x396 with 1 Axes>"
            ]
          },
          "metadata": {
            "tags": []
          }
        }
      ]
    },
    {
      "cell_type": "markdown",
      "metadata": {
        "id": "7nFNnupsNBpc",
        "colab_type": "text"
      },
      "source": [
        "**Summary of Neural Network Model**"
      ]
    },
    {
      "cell_type": "markdown",
      "metadata": {
        "id": "ke4f1Qo5ac3C",
        "colab_type": "text"
      },
      "source": [
        "The neural network has a recall score of **0.78** on the training dataset and **0.75** on the test dataset. The AUC scores are also comparable, this indicates that the model trends well on both datasets and might not offer significant opportunity in terms of hyperparameter tuning.\n",
        "\n",
        "Due to the significant computational time required to gridsearch for Neural Networks, this process is neglected at this time and the current model is accepted for comparison with the Random Forest Classifier"
      ]
    },
    {
      "cell_type": "markdown",
      "metadata": {
        "id": "beNBJqMEbOI3",
        "colab_type": "text"
      },
      "source": [
        "####**Comparison of the Tuned Random Forest Classifier and Neural Network**"
      ]
    },
    {
      "cell_type": "markdown",
      "metadata": {
        "id": "WnGvCgrUcjZX",
        "colab_type": "text"
      },
      "source": [
        "This section aims to compare the performance of the two models with the aim of determing which performs better and exploring where they conflict and whether a combination can be explored"
      ]
    },
    {
      "cell_type": "code",
      "metadata": {
        "id": "19kW0OoBXWZo",
        "colab_type": "code",
        "outputId": "422a6a95-5f95-482e-d4ea-224966aedc0a",
        "colab": {
          "base_uri": "https://localhost:8080/",
          "height": 34
        }
      },
      "source": [
        "#This confirms the shape of the Tuned Random Forest Model Prediction\n",
        "y_pred_rfc_random.shape\n"
      ],
      "execution_count": 0,
      "outputs": [
        {
          "output_type": "execute_result",
          "data": {
            "text/plain": [
              "(41921,)"
            ]
          },
          "metadata": {
            "tags": []
          },
          "execution_count": 93
        }
      ]
    },
    {
      "cell_type": "code",
      "metadata": {
        "id": "WyI9-ZjEXXoV",
        "colab_type": "code",
        "outputId": "960d6ecf-78ff-4d1d-f2e4-8b4f78f768f2",
        "colab": {
          "base_uri": "https://localhost:8080/",
          "height": 34
        }
      },
      "source": [
        "#This confirms the shape of the Neural Network Model Prediction\n",
        "y_pred_nn.shape"
      ],
      "execution_count": 0,
      "outputs": [
        {
          "output_type": "execute_result",
          "data": {
            "text/plain": [
              "(41921,)"
            ]
          },
          "metadata": {
            "tags": []
          },
          "execution_count": 92
        }
      ]
    },
    {
      "cell_type": "code",
      "metadata": {
        "id": "ueK9V3ZEXeBP",
        "colab_type": "code",
        "colab": {}
      },
      "source": [
        "#This combines the two arrays\n",
        "testing=pd.DataFrame(data={'0':y_pred_nn,'1':y_pred_rfc_random})\n",
        "#This subsets the predictions in which they differ\n",
        "updated_testing=testing.loc[testing['0']!=testing['1']]\n",
        "#This subsets the predictions in which they differ from the test dataset\n",
        "y_test_updated=y_test[updated_testing.index]\n"
      ],
      "execution_count": 0,
      "outputs": []
    },
    {
      "cell_type": "code",
      "metadata": {
        "id": "lTEHdcF9d2by",
        "colab_type": "code",
        "outputId": "09426ab5-e7bc-467c-9040-dceedd484784",
        "colab": {
          "base_uri": "https://localhost:8080/",
          "height": 51
        }
      },
      "source": [
        "#This prints the confusion matrix for the differing predicitions for the Neural Network\n",
        "print(confusion_matrix(y_test_updated,updated_testing['0']))"
      ],
      "execution_count": 0,
      "outputs": [
        {
          "output_type": "stream",
          "text": [
            "[[155 354]\n",
            " [120 104]]\n"
          ],
          "name": "stdout"
        }
      ]
    },
    {
      "cell_type": "code",
      "metadata": {
        "id": "WiECAlCGXu6i",
        "colab_type": "code",
        "outputId": "bf7ddb29-7a12-40fc-ed44-10e5bc860c3e",
        "colab": {
          "base_uri": "https://localhost:8080/",
          "height": 51
        }
      },
      "source": [
        "#This prints the confusion matrix for the differing predicitons for the Tuned Random Forest\n",
        "print(confusion_matrix(y_test_updated,updated_testing['1']))\n"
      ],
      "execution_count": 0,
      "outputs": [
        {
          "output_type": "stream",
          "text": [
            "[[354 155]\n",
            " [104 120]]\n"
          ],
          "name": "stdout"
        }
      ]
    },
    {
      "cell_type": "markdown",
      "metadata": {
        "id": "BYvp6-Xbe2Ln",
        "colab_type": "text"
      },
      "source": [
        "Comparing the confusion matrix shows that the Tuned Random Forest Model does better at predicting customers who won't default on their loans and slightly better at predicting those who would (16 extra customers).\n",
        "\n",
        "This is concordant with the performance metrics in terms of Accuracy, AOC and Recall and therefore, the Random Forest Classifier is recommended. It is also worthy of mention that random forests are capable of performing well on imbalanced datasets.\n",
        "\n",
        "**P.S** The Neural Network has not been extensively tuned and this might represent significant opportunity that can be explored"
      ]
    }
  ]
}